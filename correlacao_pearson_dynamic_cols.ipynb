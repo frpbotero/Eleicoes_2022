{
 "cells": [
  {
   "cell_type": "markdown",
   "id": "445bc69e",
   "metadata": {},
   "source": [
    "# Correlação de Pearson – detecção dinâmica de colunas numéricas\n",
    "Este notebook resolve o erro **KeyError** ao tentar acessar colunas que não\n",
    "existem no DataFrame (`df[numeric_cols]`). Ele faz:\n",
    "1. Carregamento do dataset `uf_votos_ideologia_socioeco_2022.csv` (ajuste caminho se necessário).\n",
    "2. Verificação de quais colunas da lista-alvo realmente existem no arquivo.\n",
    "3. Conversão segura de strings com vírgula em `float`.\n",
    "4. Cálculo das correlações de Pearson e visualização."
   ]
  },
  {
   "cell_type": "code",
   "execution_count": null,
   "id": "70d6dcba",
   "metadata": {},
   "outputs": [],
   "source": [
    "import pandas as pd\n",
    "import matplotlib.pyplot as plt\n",
    "from pathlib import Path\n",
    "\n",
    "csv_path = Path('uf_votos_ideologia_socioeco_2022.csv')  # ajuste se necessário"
   ]
  },
  {
   "cell_type": "markdown",
   "id": "577d5c23",
   "metadata": {},
   "source": [
    "## 1. Carregar CSV"
   ]
  },
  {
   "cell_type": "code",
   "execution_count": null,
   "id": "ab6ae012",
   "metadata": {},
   "outputs": [],
   "source": [
    "df = pd.read_csv(csv_path)\n",
    "print('Colunas encontradas:', list(df.columns))\n",
    "df.head()"
   ]
  },
  {
   "cell_type": "markdown",
   "id": "fa7429bc",
   "metadata": {},
   "source": [
    "## 2. Definir lista-alvo e filtrar apenas colunas existentes"
   ]
  },
  {
   "cell_type": "code",
   "execution_count": null,
   "id": "f82da325",
   "metadata": {},
   "outputs": [],
   "source": [
    "target_numeric = [\n",
    "    'PIB_per_capita','PIB_milhoes','IDHM_2021','Gini',\n",
    "    'Esperanca_vida_anos','Mort_infantil_pmil','Analfabetismo_perc','IPCA_2022_perc',\n",
    "    'esquerda_perc','centro-esquerda_perc','centro_perc','centro-direita_perc','direita_perc'\n",
    "]\n",
    "\n",
    "numeric_cols = [c for c in target_numeric if c in df.columns]\n",
    "print('Colunas numéricas detectadas:', numeric_cols)"
   ]
  },
  {
   "cell_type": "markdown",
   "id": "9e826d11",
   "metadata": {},
   "source": [
    "## 3. Converter vírgulas para ponto e forçar float"
   ]
  },
  {
   "cell_type": "code",
   "execution_count": null,
   "id": "e9792fce",
   "metadata": {},
   "outputs": [],
   "source": [
    "for col in numeric_cols:\n",
    "    df[col] = (df[col].astype(str)\n",
    "                      .str.replace(',', '.', regex=False)\n",
    "                      .str.replace('%', '', regex=False))\n",
    "    df[col] = pd.to_numeric(df[col], errors='coerce')\n",
    "\n",
    "# Verificar dtypes\n",
    "df[numeric_cols].dtypes"
   ]
  },
  {
   "cell_type": "markdown",
   "id": "a265f662",
   "metadata": {},
   "source": [
    "## 4. Criar blocos voto esquerda/direita"
   ]
  },
  {
   "cell_type": "code",
   "execution_count": null,
   "id": "f564a5e9",
   "metadata": {},
   "outputs": [],
   "source": [
    "df['left_vote'] = df.get('esquerda_perc', 0) + df.get('centro-esquerda_perc', 0)\n",
    "df['right_vote'] = df.get('direita_perc', 0) + df.get('centro-direita_perc', 0)"
   ]
  },
  {
   "cell_type": "markdown",
   "id": "922ed517",
   "metadata": {},
   "source": [
    "## 5. Calcular correlações"
   ]
  },
  {
   "cell_type": "code",
   "execution_count": null,
   "id": "bb6feb73",
   "metadata": {},
   "outputs": [],
   "source": [
    "variables = [v for v in ['PIB_per_capita','PIB_milhoes','IDHM_2021','Gini',\n",
    "                         'Esperanca_vida_anos','Mort_infantil_pmil','Analfabetismo_perc','IPCA_2022_perc'] if v in df.columns]\n",
    "\n",
    "corr_rows = []\n",
    "for var in variables:\n",
    "    corr_right = df[[var, 'right_vote']].corr().iloc[0, 1]\n",
    "    corr_left = df[[var, 'left_vote']].corr().iloc[0, 1]\n",
    "    corr_rows.append({'variavel': var, 'corr_direita': corr_right, 'corr_esquerda': corr_left})\n",
    "\n",
    "corr_df = pd.DataFrame(corr_rows).sort_values('corr_direita', key=lambda s: s.abs(), ascending=False)\n",
    "corr_df"
   ]
  },
  {
   "cell_type": "markdown",
   "id": "386b43e8",
   "metadata": {},
   "source": [
    "## 6. Heatmap"
   ]
  },
  {
   "cell_type": "code",
   "execution_count": null,
   "id": "362cc847",
   "metadata": {},
   "outputs": [],
   "source": [
    "fig, ax = plt.subplots(figsize=(6, len(corr_df)*0.5+1))\n",
    "heat_data = corr_df[['corr_esquerda', 'corr_direita']].to_numpy()\n",
    "img = ax.imshow(heat_data, aspect='auto', cmap='viridis')\n",
    "ax.set_xticks([0,1]); ax.set_xticklabels(['Esquerda','Direita'])\n",
    "ax.set_yticks(range(len(corr_df))); ax.set_yticklabels(corr_df['variavel'])\n",
    "plt.colorbar(img, ax=ax)\n",
    "plt.title('Correlação de Pearson (UF – 2022)')\n",
    "plt.tight_layout()\n",
    "plt.show()"
   ]
  }
 ],
 "metadata": {},
 "nbformat": 4,
 "nbformat_minor": 5
}
