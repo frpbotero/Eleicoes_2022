{
 "cells": [
  {
   "cell_type": "markdown",
   "id": "445bc69e",
   "metadata": {},
   "source": [
    "# Correlação de Pearson – detecção dinâmica de colunas numéricas\n",
    "Este notebook resolve o erro **KeyError** ao tentar acessar colunas que não\n",
    "existem no DataFrame (`df[numeric_cols]`). Ele faz:\n",
    "1. Carregamento do dataset `uf_votos_ideologia_socioeco_2022.csv` (ajuste caminho se necessário).\n",
    "2. Verificação de quais colunas da lista-alvo realmente existem no arquivo.\n",
    "3. Conversão segura de strings com vírgula em `float`.\n",
    "4. Cálculo das correlações de Pearson e visualização."
   ]
  },
  {
   "cell_type": "code",
   "execution_count": null,
   "id": "70d6dcba",
   "metadata": {},
   "outputs": [],
   "source": [
    "import pandas as pd\n",
    "import matplotlib.pyplot as plt\n",
    "from pathlib import Path\n",
    "\n",
    "csv_path = Path('data_lake/processed/uf_votos_ideologia_socioeco_2022.csv')  "
   ]
  },
  {
   "cell_type": "markdown",
   "id": "577d5c23",
   "metadata": {},
   "source": [
    "## 1. Carregar CSV"
   ]
  },
  {
   "cell_type": "code",
   "execution_count": 2,
   "id": "ab6ae012",
   "metadata": {},
   "outputs": [
    {
     "name": "stdout",
     "output_type": "stream",
     "text": [
      "Colunas encontradas: ['UF', 'PIB_milhoes', 'PIB_per_capita', 'IDHM_2021', 'Esperanca_vida_anos', 'Mort_infantil_pmil', 'Gini', 'Analfabetismo_perc', 'centro', 'centro-direita', 'centro-esquerda', 'direita', 'esquerda', 'total_votos', 'centro_perc', 'centro-direita_perc', 'centro-esquerda_perc', 'direita_perc', 'esquerda_perc']\n"
     ]
    },
    {
     "data": {
      "text/html": [
       "<div>\n",
       "<style scoped>\n",
       "    .dataframe tbody tr th:only-of-type {\n",
       "        vertical-align: middle;\n",
       "    }\n",
       "\n",
       "    .dataframe tbody tr th {\n",
       "        vertical-align: top;\n",
       "    }\n",
       "\n",
       "    .dataframe thead th {\n",
       "        text-align: right;\n",
       "    }\n",
       "</style>\n",
       "<table border=\"1\" class=\"dataframe\">\n",
       "  <thead>\n",
       "    <tr style=\"text-align: right;\">\n",
       "      <th></th>\n",
       "      <th>UF</th>\n",
       "      <th>PIB_milhoes</th>\n",
       "      <th>PIB_per_capita</th>\n",
       "      <th>IDHM_2021</th>\n",
       "      <th>Esperanca_vida_anos</th>\n",
       "      <th>Mort_infantil_pmil</th>\n",
       "      <th>Gini</th>\n",
       "      <th>Analfabetismo_perc</th>\n",
       "      <th>centro</th>\n",
       "      <th>centro-direita</th>\n",
       "      <th>centro-esquerda</th>\n",
       "      <th>direita</th>\n",
       "      <th>esquerda</th>\n",
       "      <th>total_votos</th>\n",
       "      <th>centro_perc</th>\n",
       "      <th>centro-direita_perc</th>\n",
       "      <th>centro-esquerda_perc</th>\n",
       "      <th>direita_perc</th>\n",
       "      <th>esquerda_perc</th>\n",
       "    </tr>\n",
       "  </thead>\n",
       "  <tbody>\n",
       "    <tr>\n",
       "      <th>0</th>\n",
       "      <td>AC</td>\n",
       "      <td>23676</td>\n",
       "      <td>28525</td>\n",
       "      <td>0,71</td>\n",
       "      <td>75.3</td>\n",
       "      <td>15.5</td>\n",
       "      <td>0.52</td>\n",
       "      <td>12.13</td>\n",
       "      <td>20122</td>\n",
       "      <td>3269</td>\n",
       "      <td>12314</td>\n",
       "      <td>275905</td>\n",
       "      <td>129307</td>\n",
       "      <td>440917</td>\n",
       "      <td>4.563671</td>\n",
       "      <td>0.741409</td>\n",
       "      <td>2.792816</td>\n",
       "      <td>62.575269</td>\n",
       "      <td>29.326835</td>\n",
       "    </tr>\n",
       "    <tr>\n",
       "      <th>1</th>\n",
       "      <td>AL</td>\n",
       "      <td>76066</td>\n",
       "      <td>24322</td>\n",
       "      <td>0,684</td>\n",
       "      <td>73.3</td>\n",
       "      <td>13.8</td>\n",
       "      <td>0.50</td>\n",
       "      <td>17.66</td>\n",
       "      <td>67411</td>\n",
       "      <td>13133</td>\n",
       "      <td>43542</td>\n",
       "      <td>624674</td>\n",
       "      <td>975457</td>\n",
       "      <td>1724217</td>\n",
       "      <td>3.909659</td>\n",
       "      <td>0.761679</td>\n",
       "      <td>2.525320</td>\n",
       "      <td>36.229431</td>\n",
       "      <td>56.573912</td>\n",
       "    </tr>\n",
       "    <tr>\n",
       "      <th>2</th>\n",
       "      <td>AM</td>\n",
       "      <td>145140</td>\n",
       "      <td>36827</td>\n",
       "      <td>0,7</td>\n",
       "      <td>73.0</td>\n",
       "      <td>16.0</td>\n",
       "      <td>0.51</td>\n",
       "      <td>6.94</td>\n",
       "      <td>87060</td>\n",
       "      <td>22214</td>\n",
       "      <td>44527</td>\n",
       "      <td>881838</td>\n",
       "      <td>1021037</td>\n",
       "      <td>2056676</td>\n",
       "      <td>4.233044</td>\n",
       "      <td>1.080092</td>\n",
       "      <td>2.164998</td>\n",
       "      <td>42.876856</td>\n",
       "      <td>49.645010</td>\n",
       "    </tr>\n",
       "    <tr>\n",
       "      <th>3</th>\n",
       "      <td>AP</td>\n",
       "      <td>23614</td>\n",
       "      <td>32194</td>\n",
       "      <td>0,688</td>\n",
       "      <td>75.0</td>\n",
       "      <td>18.1</td>\n",
       "      <td>0.53</td>\n",
       "      <td>6.47</td>\n",
       "      <td>27497</td>\n",
       "      <td>4191</td>\n",
       "      <td>14670</td>\n",
       "      <td>188042</td>\n",
       "      <td>197761</td>\n",
       "      <td>432161</td>\n",
       "      <td>6.362675</td>\n",
       "      <td>0.969777</td>\n",
       "      <td>3.394568</td>\n",
       "      <td>43.512024</td>\n",
       "      <td>45.760955</td>\n",
       "    </tr>\n",
       "    <tr>\n",
       "      <th>4</th>\n",
       "      <td>BA</td>\n",
       "      <td>402647</td>\n",
       "      <td>28483</td>\n",
       "      <td>0,691</td>\n",
       "      <td>74.5</td>\n",
       "      <td>14.0</td>\n",
       "      <td>0.51</td>\n",
       "      <td>12.60</td>\n",
       "      <td>197305</td>\n",
       "      <td>76651</td>\n",
       "      <td>217224</td>\n",
       "      <td>2053250</td>\n",
       "      <td>5878578</td>\n",
       "      <td>8423008</td>\n",
       "      <td>2.342453</td>\n",
       "      <td>0.910019</td>\n",
       "      <td>2.578936</td>\n",
       "      <td>24.376683</td>\n",
       "      <td>69.791908</td>\n",
       "    </tr>\n",
       "  </tbody>\n",
       "</table>\n",
       "</div>"
      ],
      "text/plain": [
       "   UF  PIB_milhoes  PIB_per_capita IDHM_2021  Esperanca_vida_anos  \\\n",
       "0  AC        23676           28525      0,71                 75.3   \n",
       "1  AL        76066           24322     0,684                 73.3   \n",
       "2  AM       145140           36827       0,7                 73.0   \n",
       "3  AP        23614           32194     0,688                 75.0   \n",
       "4  BA       402647           28483     0,691                 74.5   \n",
       "\n",
       "   Mort_infantil_pmil  Gini  Analfabetismo_perc  centro  centro-direita  \\\n",
       "0                15.5  0.52               12.13   20122            3269   \n",
       "1                13.8  0.50               17.66   67411           13133   \n",
       "2                16.0  0.51                6.94   87060           22214   \n",
       "3                18.1  0.53                6.47   27497            4191   \n",
       "4                14.0  0.51               12.60  197305           76651   \n",
       "\n",
       "   centro-esquerda  direita  esquerda  total_votos  centro_perc  \\\n",
       "0            12314   275905    129307       440917     4.563671   \n",
       "1            43542   624674    975457      1724217     3.909659   \n",
       "2            44527   881838   1021037      2056676     4.233044   \n",
       "3            14670   188042    197761       432161     6.362675   \n",
       "4           217224  2053250   5878578      8423008     2.342453   \n",
       "\n",
       "   centro-direita_perc  centro-esquerda_perc  direita_perc  esquerda_perc  \n",
       "0             0.741409              2.792816     62.575269      29.326835  \n",
       "1             0.761679              2.525320     36.229431      56.573912  \n",
       "2             1.080092              2.164998     42.876856      49.645010  \n",
       "3             0.969777              3.394568     43.512024      45.760955  \n",
       "4             0.910019              2.578936     24.376683      69.791908  "
      ]
     },
     "execution_count": 2,
     "metadata": {},
     "output_type": "execute_result"
    }
   ],
   "source": [
    "df = pd.read_csv(csv_path)\n",
    "print('Colunas encontradas:', list(df.columns))\n",
    "df.head()"
   ]
  },
  {
   "cell_type": "markdown",
   "id": "fa7429bc",
   "metadata": {},
   "source": [
    "## 2. Definir lista-alvo e filtrar apenas colunas existentes"
   ]
  },
  {
   "cell_type": "code",
   "execution_count": 3,
   "id": "f82da325",
   "metadata": {},
   "outputs": [
    {
     "name": "stdout",
     "output_type": "stream",
     "text": [
      "Colunas numéricas detectadas: ['PIB_per_capita', 'PIB_milhoes', 'IDHM_2021', 'Gini', 'Esperanca_vida_anos', 'Mort_infantil_pmil', 'Analfabetismo_perc', 'esquerda_perc', 'centro-esquerda_perc', 'centro_perc', 'centro-direita_perc', 'direita_perc']\n"
     ]
    }
   ],
   "source": [
    "target_numeric = [\n",
    "    'PIB_per_capita','PIB_milhoes','IDHM_2021','Gini',\n",
    "    'Esperanca_vida_anos','Mort_infantil_pmil','Analfabetismo_perc','IPCA_2022_perc',\n",
    "    'esquerda_perc','centro-esquerda_perc','centro_perc','centro-direita_perc','direita_perc'\n",
    "]\n",
    "\n",
    "numeric_cols = [c for c in target_numeric if c in df.columns]\n",
    "print('Colunas numéricas detectadas:', numeric_cols)"
   ]
  },
  {
   "cell_type": "markdown",
   "id": "9e826d11",
   "metadata": {},
   "source": [
    "## 3. Converter vírgulas para ponto e forçar float"
   ]
  },
  {
   "cell_type": "code",
   "execution_count": 4,
   "id": "e9792fce",
   "metadata": {},
   "outputs": [
    {
     "data": {
      "text/plain": [
       "PIB_per_capita            int64\n",
       "PIB_milhoes               int64\n",
       "IDHM_2021               float64\n",
       "Gini                    float64\n",
       "Esperanca_vida_anos     float64\n",
       "Mort_infantil_pmil      float64\n",
       "Analfabetismo_perc      float64\n",
       "esquerda_perc           float64\n",
       "centro-esquerda_perc    float64\n",
       "centro_perc             float64\n",
       "centro-direita_perc     float64\n",
       "direita_perc            float64\n",
       "dtype: object"
      ]
     },
     "execution_count": 4,
     "metadata": {},
     "output_type": "execute_result"
    }
   ],
   "source": [
    "for col in numeric_cols:\n",
    "    df[col] = (df[col].astype(str)\n",
    "                      .str.replace(',', '.', regex=False)\n",
    "                      .str.replace('%', '', regex=False))\n",
    "    df[col] = pd.to_numeric(df[col], errors='coerce')\n",
    "\n",
    "# Verificar dtypes\n",
    "df[numeric_cols].dtypes"
   ]
  },
  {
   "cell_type": "markdown",
   "id": "a265f662",
   "metadata": {},
   "source": [
    "## 4. Criar blocos voto esquerda/direita"
   ]
  },
  {
   "cell_type": "code",
   "execution_count": 5,
   "id": "f564a5e9",
   "metadata": {},
   "outputs": [],
   "source": [
    "df['left_vote'] = df.get('esquerda_perc', 0) + df.get('centro-esquerda_perc', 0)\n",
    "df['right_vote'] = df.get('direita_perc', 0) + df.get('centro-direita_perc', 0)"
   ]
  },
  {
   "cell_type": "markdown",
   "id": "922ed517",
   "metadata": {},
   "source": [
    "## 5. Calcular correlações"
   ]
  },
  {
   "cell_type": "code",
   "execution_count": 6,
   "id": "bb6feb73",
   "metadata": {},
   "outputs": [
    {
     "data": {
      "text/html": [
       "<div>\n",
       "<style scoped>\n",
       "    .dataframe tbody tr th:only-of-type {\n",
       "        vertical-align: middle;\n",
       "    }\n",
       "\n",
       "    .dataframe tbody tr th {\n",
       "        vertical-align: top;\n",
       "    }\n",
       "\n",
       "    .dataframe thead th {\n",
       "        text-align: right;\n",
       "    }\n",
       "</style>\n",
       "<table border=\"1\" class=\"dataframe\">\n",
       "  <thead>\n",
       "    <tr style=\"text-align: right;\">\n",
       "      <th></th>\n",
       "      <th>variavel</th>\n",
       "      <th>corr_direita</th>\n",
       "      <th>corr_esquerda</th>\n",
       "    </tr>\n",
       "  </thead>\n",
       "  <tbody>\n",
       "    <tr>\n",
       "      <th>6</th>\n",
       "      <td>Analfabetismo_perc</td>\n",
       "      <td>-0.757748</td>\n",
       "      <td>0.779423</td>\n",
       "    </tr>\n",
       "    <tr>\n",
       "      <th>0</th>\n",
       "      <td>PIB_per_capita</td>\n",
       "      <td>0.541687</td>\n",
       "      <td>-0.563596</td>\n",
       "    </tr>\n",
       "    <tr>\n",
       "      <th>2</th>\n",
       "      <td>IDHM_2021</td>\n",
       "      <td>0.425039</td>\n",
       "      <td>-0.441600</td>\n",
       "    </tr>\n",
       "    <tr>\n",
       "      <th>3</th>\n",
       "      <td>Gini</td>\n",
       "      <td>-0.416709</td>\n",
       "      <td>0.406385</td>\n",
       "    </tr>\n",
       "    <tr>\n",
       "      <th>4</th>\n",
       "      <td>Esperanca_vida_anos</td>\n",
       "      <td>0.380523</td>\n",
       "      <td>-0.401964</td>\n",
       "    </tr>\n",
       "    <tr>\n",
       "      <th>5</th>\n",
       "      <td>Mort_infantil_pmil</td>\n",
       "      <td>-0.165495</td>\n",
       "      <td>0.171547</td>\n",
       "    </tr>\n",
       "    <tr>\n",
       "      <th>1</th>\n",
       "      <td>PIB_milhoes</td>\n",
       "      <td>0.120746</td>\n",
       "      <td>-0.150453</td>\n",
       "    </tr>\n",
       "  </tbody>\n",
       "</table>\n",
       "</div>"
      ],
      "text/plain": [
       "              variavel  corr_direita  corr_esquerda\n",
       "6   Analfabetismo_perc     -0.757748       0.779423\n",
       "0       PIB_per_capita      0.541687      -0.563596\n",
       "2            IDHM_2021      0.425039      -0.441600\n",
       "3                 Gini     -0.416709       0.406385\n",
       "4  Esperanca_vida_anos      0.380523      -0.401964\n",
       "5   Mort_infantil_pmil     -0.165495       0.171547\n",
       "1          PIB_milhoes      0.120746      -0.150453"
      ]
     },
     "execution_count": 6,
     "metadata": {},
     "output_type": "execute_result"
    }
   ],
   "source": [
    "variables = [v for v in ['PIB_per_capita','PIB_milhoes','IDHM_2021','Gini',\n",
    "                         'Esperanca_vida_anos','Mort_infantil_pmil','Analfabetismo_perc','IPCA_2022_perc'] if v in df.columns]\n",
    "\n",
    "corr_rows = []\n",
    "for var in variables:\n",
    "    corr_right = df[[var, 'right_vote']].corr().iloc[0, 1]\n",
    "    corr_left = df[[var, 'left_vote']].corr().iloc[0, 1]\n",
    "    corr_rows.append({'variavel': var, 'corr_direita': corr_right, 'corr_esquerda': corr_left})\n",
    "\n",
    "corr_df = pd.DataFrame(corr_rows).sort_values('corr_direita', key=lambda s: s.abs(), ascending=False)\n",
    "corr_df"
   ]
  },
  {
   "cell_type": "markdown",
   "id": "386b43e8",
   "metadata": {},
   "source": [
    "## 6. Heatmap"
   ]
  },
  {
   "cell_type": "code",
   "execution_count": 7,
   "id": "362cc847",
   "metadata": {},
   "outputs": [
    {
     "data": {
      "image/png": "[encoded data removed]",
      "text/plain": [
       "<Figure size 600x450 with 2 Axes>"
      ]
     },
     "metadata": {},
     "output_type": "display_data"
    }
   ],
   "source": [
    "fig, ax = plt.subplots(figsize=(6, len(corr_df)*0.5+1))\n",
    "heat_data = corr_df[['corr_esquerda', 'corr_direita']].to_numpy()\n",
    "img = ax.imshow(heat_data, aspect='auto', cmap='viridis')\n",
    "ax.set_xticks([0,1]); ax.set_xticklabels(['Esquerda','Direita'])\n",
    "ax.set_yticks(range(len(corr_df))); ax.set_yticklabels(corr_df['variavel'])\n",
    "plt.colorbar(img, ax=ax)\n",
    "plt.title('Correlação de Pearson (UF – 2022)')\n",
    "plt.tight_layout()\n",
    "plt.show()"
   ]
  }
 ],
 "metadata": {
  "kernelspec": {
   "display_name": "venv",
   "language": "python",
   "name": "python3"
  },
  "language_info": {
   "codemirror_mode": {
    "name": "ipython",
    "version": 3
   },
   "file_extension": ".py",
   "mimetype": "text/x-python",
   "name": "python",
   "nbconvert_exporter": "python",
   "pygments_lexer": "ipython3",
   "version": "3.10.12"
  }
 },
 "nbformat": 4,
 "nbformat_minor": 5
}
