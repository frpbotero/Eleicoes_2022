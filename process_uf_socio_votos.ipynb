{
 "cells": [
  {
   "cell_type": "markdown",
   "id": "be24d27d",
   "metadata": {},
   "source": [
    "# Análise de Indicadores Socioeconômicos e Votação (Brasil 2022)\n",
    "Este notebook carrega e combina:\n",
    "1. **Indicadores socioeconômicos por Unidade da Federação (UF) em 2022**\n",
    "2. **Resultado de votos nominais válidos do 1º turno das eleições de 2022**, agregados por UF e **agrupados por ideologia partidária**.\n",
    "\n",
    "O resultado final é salvo em um CSV (`uf_votos_ideologia_socioeco_2022.csv`)."
   ]
  },
  {
   "cell_type": "code",
   "execution_count": 1,
   "id": "39426959",
   "metadata": {},
   "outputs": [],
   "source": [
    "import pandas as pd\n",
    "from pathlib import Path"
   ]
  },
  {
   "cell_type": "markdown",
   "id": "b209b031",
   "metadata": {},
   "source": [
    "## Definição dos caminhos dos arquivos de entrada\n",
    "Ajuste conforme seu diretório:"
   ]
  },
  {
   "cell_type": "code",
   "execution_count": null,
   "id": "26b1a2ce",
   "metadata": {},
   "outputs": [],
   "source": [
    "BASE = Path('.')  # ajuste se necessário\n",
    "\n",
    "# Arquivos de entrada\n",
    "path_indicadores = BASE / '/home/fbotero/Documents/POS/data_lake/raw/csv/indicadores_uf_2022.csv'\n",
    "path_gini         = BASE / '/home/fbotero/Documents/POS/data_lake/raw/csv/gini_uf_2022.csv'\n",
    "path_analf        = BASE / '/home/fbotero/Documents/POS/data_lake/raw/csv/analfabetismo_uf_2022.csv'\n",
    "path_votos        = BASE / '/home/fbotero/Documents/POS/data_lake/raw/csv/votacao_partido_munzona_2022_BR.csv'\n",
    "\n",
    "# Saída\n",
    "out_csv           = BASE / '/home/fbotero/Documents/POS/data_lake/processed/uf_votos_ideologia_socioeco_2022.csv'"
   ]
  },
  {
   "cell_type": "markdown",
   "id": "05bbf705",
   "metadata": {},
   "source": [
    "## 1. Carregar e padronizar indicadores socioeconômicos"
   ]
  },
  {
   "cell_type": "code",
   "execution_count": null,
   "id": "12eee6d3",
   "metadata": {},
   "outputs": [],
   "source": [
    "ind = pd.read_csv(path_indicadores)\n",
    "\n",
    "# Renomear e ajustar colunas\n",
    "ind.rename(columns={'PIB_R$mi': 'PIB_milhoes',\n",
    "                    'PIB_per_capita_R$': 'PIB_per_capita',\n",
    "                    'Esperanca_vida': 'Esperanca_vida_anos',\n",
    "                    'Mort_infantil_per_mil': 'Mort_infantil_pmil',\n",
    "                    'Analfabetismo_%': 'Analfabetismo_perc',\n",
    "                    'IPCA_2022_%': 'IPCA_2022_perc'}, inplace=True)\n",
    "\n",
    "# Completar Gini, caso não exista\n",
    "if 'Gini' not in ind.columns:\n",
    "    gini = pd.read_csv(path_gini)\n",
    "    ind = ind.merge(gini[['UF', '2022']].rename(columns={'2022': 'Gini'}), on='UF', how='left')\n",
    "\n",
    "# Completar Analfabetismo, caso ausente\n",
    "if 'Analfabetismo_perc' not in ind.columns:\n",
    "    analf = pd.read_csv(path_analf)\n",
    "    ind = ind.merge(analf[['UF', '2022']].rename(columns={'2022': 'Analfabetismo_perc'}), on='UF', how='left')\n",
    "\n",
    "ind.head()"
   ]
  },
  {
   "cell_type": "markdown",
   "id": "09b5d3a0",
   "metadata": {},
   "source": [
    "## 2. Carregar votos nominais e atribuir ideologia partidária"
   ]
  },
  {
   "cell_type": "code",
   "execution_count": null,
   "id": "bd7238c9",
   "metadata": {},
   "outputs": [],
   "source": [
    "votes = pd.read_csv(path_votos, sep=';', encoding='latin-1',\n",
    "                     usecols=['NR_TURNO', 'SG_UF', 'SG_PARTIDO', 'QT_VOTOS_NOMINAIS_VALIDOS'])\n",
    "\n",
    "# Filtra 1º turno e votos > 0\n",
    "votes = votes[(votes['NR_TURNO'] == 1) & (votes['QT_VOTOS_NOMINAIS_VALIDOS'] > 0)]\n",
    "\n",
    "# Mapeamento partido -> ideologia\n",
    "ideology_map = {\n",
    "    'PT':'esquerda','PCB':'esquerda','UP':'esquerda','PSTU':'esquerda',\n",
    "    'PDT':'centro-esquerda','PSB':'centro-esquerda','REDE':'centro-esquerda','PV':'centro-esquerda',\n",
    "    'MDB':'centro','PSD':'centro','PODE':'centro','CIDADANIA':'centro','AVANTE':'centro',\n",
    "    'UNIÃO':'centro-direita','PSDB':'centro-direita','PP':'centro-direita','NOVO':'centro-direita',\n",
    "    'SOLIDARIEDADE':'centro-direita',\n",
    "    'PL':'direita','PTB':'direita','DC':'direita','PATRIOTA':'direita','PRTB':'direita'\n",
    "}\n",
    "\n",
    "votes['ideologia'] = votes['SG_PARTIDO'].map(ideology_map).fillna('outros')\n",
    "votes.head()"
   ]
  },
  {
   "cell_type": "markdown",
   "id": "8fb81edd",
   "metadata": {},
   "source": [
    "## 3. Agregar votos por UF e ideologia"
   ]
  },
  {
   "cell_type": "code",
   "execution_count": null,
   "id": "b70a5fad",
   "metadata": {},
   "outputs": [],
   "source": [
    "agg = (votes.groupby(['SG_UF','ideologia'])['QT_VOTOS_NOMINAIS_VALIDOS']\n",
    "         .sum().unstack(fill_value=0).reset_index().rename(columns={'SG_UF':'UF'}))\n",
    "\n",
    "# Calcula participação percentual\n",
    "ideology_cols = [c for c in agg.columns if c != 'UF']\n",
    "agg['total_votos'] = agg[ideology_cols].sum(axis=1)\n",
    "for col in ideology_cols:\n",
    "    agg[col + '_perc'] = (agg[col] / agg['total_votos']) * 100\n",
    "\n",
    "agg.head()"
   ]
  },
  {
   "cell_type": "markdown",
   "id": "94586cc3",
   "metadata": {},
   "source": [
    "## 4. Combinar indicadores e votação"
   ]
  },
  {
   "cell_type": "code",
   "execution_count": null,
   "id": "a2e3f32a",
   "metadata": {},
   "outputs": [],
   "source": [
    "combined = ind.merge(agg, on='UF', how='left')\n",
    "combined.head()"
   ]
  },
  {
   "cell_type": "markdown",
   "id": "f21e7c94",
   "metadata": {},
   "source": [
    "## 5. Salvar conjunto combinado em CSV"
   ]
  },
  {
   "cell_type": "code",
   "execution_count": null,
   "id": "721d033f",
   "metadata": {},
   "outputs": [],
   "source": [
    "combined.to_csv(out_csv, index=False)\n",
    "print(f'Arquivo salvo em: {out_csv.resolve()}')"
   ]
  },
  {
   "cell_type": "markdown",
   "id": "6f05a131",
   "metadata": {},
   "source": [
    "### Pronto!\n",
    "Agora você tem um dataset unificado `uf_votos_ideologia_socioeco_2022.csv` com indicadores socioeconômicos e votação por bloco ideológico. A partir daqui, você pode seguir para análises estatísticas, visualizações ou modelos de ML."
   ]
  }
 ],
 "metadata": {
  "kernelspec": {
   "display_name": "venv",
   "language": "python",
   "name": "python3"
  },
  "language_info": {
   "codemirror_mode": {
    "name": "ipython",
    "version": 3
   },
   "file_extension": ".py",
   "mimetype": "text/x-python",
   "name": "python",
   "nbconvert_exporter": "python",
   "pygments_lexer": "ipython3",
   "version": "3.10.12"
  }
 },
 "nbformat": 4,
 "nbformat_minor": 5
}
