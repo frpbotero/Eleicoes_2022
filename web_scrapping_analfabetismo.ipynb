{
 "cells": [
  {
   "cell_type": "markdown",
   "id": "3b293a7f",
   "metadata": {},
   "source": [
    "### Import libs"
   ]
  },
  {
   "cell_type": "code",
   "execution_count": 13,
   "id": "dc836aea",
   "metadata": {},
   "outputs": [],
   "source": [
    "import requests\n",
    "from bs4 import BeautifulSoup\n",
    "import pandas as pd\n",
    "from pathlib import Path"
   ]
  },
  {
   "cell_type": "markdown",
   "id": "b2772ab1",
   "metadata": {},
   "source": [
    "### Declarate URL and PATH"
   ]
  },
  {
   "cell_type": "code",
   "execution_count": null,
   "id": "66e63f74",
   "metadata": {},
   "outputs": [],
   "source": [
    "URL = \"https://www.ipeadata.gov.br/ExibeSerieR.aspx?stub=1&serid=2096726409&MINDATA=1970&MAXDATA=2030&TNIVID=2&TPAID=1&module=S\"\n",
    "\n",
    "\n",
    "OUT_CSV = Path(\"taxa_analfabetismo_2022_por_uf.csv\") \n"
   ]
  },
  {
   "cell_type": "markdown",
   "id": "845975f2",
   "metadata": {},
   "source": [
    "###  Making Request"
   ]
  },
  {
   "cell_type": "code",
   "execution_count": 16,
   "id": "b8d334fc",
   "metadata": {},
   "outputs": [],
   "source": [
    "html = requests.get(URL, headers={\"User-Agent\": \"Mozilla/5.0\"}).text"
   ]
  },
  {
   "cell_type": "markdown",
   "id": "6150fa74",
   "metadata": {},
   "source": [
    "### Extract principal data"
   ]
  },
  {
   "cell_type": "code",
   "execution_count": 17,
   "id": "07dd356e",
   "metadata": {},
   "outputs": [],
   "source": [
    "soup  = BeautifulSoup(html, \"lxml\")\n",
    "rows  = soup.select(\"table#grd_DXMainTable tr[id^=grd_DXDataRow]\")"
   ]
  },
  {
   "cell_type": "markdown",
   "id": "d0d3b49d",
   "metadata": {},
   "source": [
    "### Convert to list of dictionaries"
   ]
  },
  {
   "cell_type": "code",
   "execution_count": null,
   "id": "bd9eac8c",
   "metadata": {},
   "outputs": [
    {
     "ename": "ValueError",
     "evalue": "too many values to unpack (expected 6)",
     "output_type": "error",
     "traceback": [
      "\u001b[0;31m---------------------------------------------------------------------------\u001b[0m",
      "\u001b[0;31mValueError\u001b[0m                                Traceback (most recent call last)",
      "Cell \u001b[0;32mIn[18], line 4\u001b[0m\n\u001b[1;32m      2\u001b[0m \u001b[38;5;28;01mfor\u001b[39;00m tr \u001b[38;5;129;01min\u001b[39;00m rows:\n\u001b[1;32m      3\u001b[0m     cols \u001b[38;5;241m=\u001b[39m [td\u001b[38;5;241m.\u001b[39mget_text(strip\u001b[38;5;241m=\u001b[39m\u001b[38;5;28;01mTrue\u001b[39;00m)\u001b[38;5;241m.\u001b[39mreplace(\u001b[38;5;124m\"\u001b[39m\u001b[38;5;130;01m\\xa0\u001b[39;00m\u001b[38;5;124m\"\u001b[39m, \u001b[38;5;124m\"\u001b[39m\u001b[38;5;124m \u001b[39m\u001b[38;5;124m\"\u001b[39m) \u001b[38;5;28;01mfor\u001b[39;00m td \u001b[38;5;129;01min\u001b[39;00m tr\u001b[38;5;241m.\u001b[39mfind_all(\u001b[38;5;124m\"\u001b[39m\u001b[38;5;124mtd\u001b[39m\u001b[38;5;124m\"\u001b[39m)]\n\u001b[0;32m----> 4\u001b[0m     sigla, estado, v1991, v2000, v2010, v2022 \u001b[38;5;241m=\u001b[39m cols\n\u001b[1;32m      5\u001b[0m     records\u001b[38;5;241m.\u001b[39mappend({\n\u001b[1;32m      6\u001b[0m         \u001b[38;5;124m\"\u001b[39m\u001b[38;5;124mUF\u001b[39m\u001b[38;5;124m\"\u001b[39m:     sigla,\n\u001b[1;32m      7\u001b[0m         \u001b[38;5;124m\"\u001b[39m\u001b[38;5;124mEstado\u001b[39m\u001b[38;5;124m\"\u001b[39m: estado,\n\u001b[1;32m      8\u001b[0m         \u001b[38;5;124m\"\u001b[39m\u001b[38;5;124m2022\u001b[39m\u001b[38;5;124m\"\u001b[39m:   \u001b[38;5;28mfloat\u001b[39m(v2022\u001b[38;5;241m.\u001b[39mreplace(\u001b[38;5;124m\"\u001b[39m\u001b[38;5;124m,\u001b[39m\u001b[38;5;124m\"\u001b[39m, \u001b[38;5;124m\"\u001b[39m\u001b[38;5;124m.\u001b[39m\u001b[38;5;124m\"\u001b[39m))\n\u001b[1;32m      9\u001b[0m     })\n",
      "\u001b[0;31mValueError\u001b[0m: too many values to unpack (expected 6)"
     ]
    }
   ],
   "source": [
    "records = []\n",
    "for tr in rows:\n",
    "    cols = [td.get_text(strip=True).replace(\"\\xa0\", \" \") for td in tr.find_all(\"td\")]\n",
    "    sigla, estado, v1991, v2000, v2010, v2022 = cols\n",
    "    records.append({\n",
    "        \"UF\":     sigla,\n",
    "        \"Estado\": estado,\n",
    "        \"1991\":   float(v1991.replace(\",\", \".\")),\n",
    "        \"2000\":   float(v2000.replace(\",\", \".\")),\n",
    "        \"2010\":   float(v2010.replace(\",\", \".\")),\n",
    "        \"2022\":   float(v2022.replace(\",\", \".\"))\n",
    "    })"
   ]
  },
  {
   "cell_type": "markdown",
   "id": "2397e1c5",
   "metadata": {},
   "source": [
    "### Create Dataframe"
   ]
  },
  {
   "cell_type": "code",
   "execution_count": 7,
   "id": "861c661a",
   "metadata": {},
   "outputs": [],
   "source": [
    "df = pd.DataFrame(records).set_index(\"UF\")"
   ]
  },
  {
   "cell_type": "markdown",
   "id": "5a597bcc",
   "metadata": {},
   "source": [
    "### Save Data"
   ]
  },
  {
   "cell_type": "code",
   "execution_count": 11,
   "id": "e014fd7e",
   "metadata": {},
   "outputs": [],
   "source": [
    "df[[\"Estado\", \"2022\"]].sort_values(\"2022\").to_csv(\"/home/fbotero/Documents/POS/raw/analfabetismo_uf_2022.csv\", float_format=\"%.2f\", encoding=\"utf-8\")"
   ]
  }
 ],
 "metadata": {
  "kernelspec": {
   "display_name": "venv",
   "language": "python",
   "name": "python3"
  },
  "language_info": {
   "codemirror_mode": {
    "name": "ipython",
    "version": 3
   },
   "file_extension": ".py",
   "mimetype": "text/x-python",
   "name": "python",
   "nbconvert_exporter": "python",
   "pygments_lexer": "ipython3",
   "version": "3.10.12"
  }
 },
 "nbformat": 4,
 "nbformat_minor": 5
}
