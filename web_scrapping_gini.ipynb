{
 "cells": [
  {
   "cell_type": "markdown",
   "id": "3b293a7f",
   "metadata": {},
   "source": [
    "### Import libs"
   ]
  },
  {
   "cell_type": "code",
   "execution_count": 1,
   "id": "dc836aea",
   "metadata": {},
   "outputs": [],
   "source": [
    "import requests\n",
    "from bs4 import BeautifulSoup\n",
    "import pandas as pd\n",
    "from pathlib import Path"
   ]
  },
  {
   "cell_type": "markdown",
   "id": "b2772ab1",
   "metadata": {},
   "source": [
    "### Declarate URL and PATH"
   ]
  },
  {
   "cell_type": "code",
   "execution_count": 2,
   "id": "66e63f74",
   "metadata": {},
   "outputs": [],
   "source": [
    "URL = \"https://www.ipeadata.gov.br/ExibeSerieR.aspx?MAXDATA=2025&MINDATA=2012&TNIVID=2&TPAID=1&module=S&serid=2096726935&stub=1\"\n",
    "\n",
    "OUT_CSV = Path(\"indice_de_gini.csv\") "
   ]
  },
  {
   "cell_type": "markdown",
   "id": "845975f2",
   "metadata": {},
   "source": [
    "###  Making Request"
   ]
  },
  {
   "cell_type": "code",
   "execution_count": 3,
   "id": "b8d334fc",
   "metadata": {},
   "outputs": [],
   "source": [
    "html = requests.get(URL, headers={\"User-Agent\": \"Mozilla/5.0\"}).text"
   ]
  },
  {
   "cell_type": "markdown",
   "id": "6150fa74",
   "metadata": {},
   "source": [
    "### Extract principal data"
   ]
  },
  {
   "cell_type": "code",
   "execution_count": 12,
   "id": "07dd356e",
   "metadata": {},
   "outputs": [],
   "source": [
    "soup  = BeautifulSoup(html, \"lxml\")\n",
    "table = soup.select_one(\"table#grd_DXMainTable\")"
   ]
  },
  {
   "cell_type": "code",
   "execution_count": 16,
   "id": "17e6b961",
   "metadata": {},
   "outputs": [
    {
     "data": {
      "text/plain": [
       "<table border=\"0\" cellpadding=\"0\" cellspacing=\"0\" class=\"dxgvTable\" id=\"grd_DXMainTable\" onclick=\"aspxGVTableClick('grd', event);\" style=\"width:100%;border-collapse:collapse;empty-cells:show;\">\n",
       "<tr id=\"grd_DXHeadersRow0\">\n",
       "<td class=\"dxgvHeader\" id=\"grd_col1\" onmousedown=\"aspxGVHeaderMouseDown('grd', this, event);\" style=\"width:25px;border-top-width:0px;border-left-width:0px;\"><table border=\"0\" cellpadding=\"0\" cellspacing=\"0\" style=\"width:100%;border-collapse:collapse;\">\n",
       "<tr>\n",
       "<td>Sigla</td><td style=\"width:1px;text-align:right;\"><span class=\"dx-vam\"> </span><img alt=\"(Ascending)\" class=\"dx-vam\" src=\"img/sortUp.jpg\" style=\"margin-left:5px;margin-right:5px;\"/><img alt=\"[Filter]\" class=\"dxGridView_gvHeaderFilter dxgv__hfb dx-vam\" src=\"/DXR.axd?r=1_19-JQ0Ub\" style=\"cursor:default;\"/></td>\n",
       "</tr>\n",
       "</table></td><td class=\"dxgvHeader\" id=\"grd_col2\" onmousedown=\"aspxGVHeaderMouseDown('grd', this, event);\" style=\"width:300px;border-top-width:0px;border-left-width:0px;\"><table border=\"0\" cellpadding=\"0\" cellspacing=\"0\" style=\"width:100%;border-collapse:collapse;\">\n",
       "<tr>\n",
       "<td>Estado</td><td style=\"width:1px;text-align:right;\"><span class=\"dx-vam\"> </span><img alt=\"(Ascending)\" class=\"dx-vam\" src=\"img/sortUp.jpg\" style=\"margin-left:5px;\"/></td>\n",
       "</tr>\n",
       "</table></td><td class=\"dxgvHeader dx-wrap\" id=\"grd_col3\" onmousedown=\"aspxGVHeaderMouseDown('grd', this, event);\" style=\"width:75px;border-top-width:0px;border-left-width:0px;\"><table border=\"0\" cellpadding=\"0\" cellspacing=\"0\" style=\"width:100%;border-collapse:collapse;\">\n",
       "<tr>\n",
       "<td class=\"dx-wrap\">2012</td><td style=\"width:1px;text-align:right;\"><span class=\"dx-vam\"> </span></td>\n",
       "</tr>\n",
       "</table></td><td class=\"dxgvHeader dx-wrap\" id=\"grd_col4\" onmousedown=\"aspxGVHeaderMouseDown('grd', this, event);\" style=\"width:75px;border-top-width:0px;border-left-width:0px;\"><table border=\"0\" cellpadding=\"0\" cellspacing=\"0\" style=\"width:100%;border-collapse:collapse;\">\n",
       "<tr>\n",
       "<td class=\"dx-wrap\">2013</td><td style=\"width:1px;text-align:right;\"><span class=\"dx-vam\"> </span></td>\n",
       "</tr>\n",
       "</table></td><td class=\"dxgvHeader dx-wrap\" id=\"grd_col5\" onmousedown=\"aspxGVHeaderMouseDown('grd', this, event);\" style=\"width:75px;border-top-width:0px;border-left-width:0px;\"><table border=\"0\" cellpadding=\"0\" cellspacing=\"0\" style=\"width:100%;border-collapse:collapse;\">\n",
       "<tr>\n",
       "<td class=\"dx-wrap\">2014</td><td style=\"width:1px;text-align:right;\"><span class=\"dx-vam\"> </span></td>\n",
       "</tr>\n",
       "</table></td><td class=\"dxgvHeader dx-wrap\" id=\"grd_col6\" onmousedown=\"aspxGVHeaderMouseDown('grd', this, event);\" style=\"width:75px;border-top-width:0px;border-left-width:0px;\"><table border=\"0\" cellpadding=\"0\" cellspacing=\"0\" style=\"width:100%;border-collapse:collapse;\">\n",
       "<tr>\n",
       "<td class=\"dx-wrap\">2015</td><td style=\"width:1px;text-align:right;\"><span class=\"dx-vam\"> </span></td>\n",
       "</tr>\n",
       "</table></td><td class=\"dxgvHeader dx-wrap\" id=\"grd_col7\" onmousedown=\"aspxGVHeaderMouseDown('grd', this, event);\" style=\"width:75px;border-top-width:0px;border-left-width:0px;\"><table border=\"0\" cellpadding=\"0\" cellspacing=\"0\" style=\"width:100%;border-collapse:collapse;\">\n",
       "<tr>\n",
       "<td class=\"dx-wrap\">2016</td><td style=\"width:1px;text-align:right;\"><span class=\"dx-vam\"> </span></td>\n",
       "</tr>\n",
       "</table></td><td class=\"dxgvHeader dx-wrap\" id=\"grd_col8\" onmousedown=\"aspxGVHeaderMouseDown('grd', this, event);\" style=\"width:75px;border-top-width:0px;border-left-width:0px;\"><table border=\"0\" cellpadding=\"0\" cellspacing=\"0\" style=\"width:100%;border-collapse:collapse;\">\n",
       "<tr>\n",
       "<td class=\"dx-wrap\">2017</td><td style=\"width:1px;text-align:right;\"><span class=\"dx-vam\"> </span></td>\n",
       "</tr>\n",
       "</table></td><td class=\"dxgvHeader dx-wrap\" id=\"grd_col9\" onmousedown=\"aspxGVHeaderMouseDown('grd', this, event);\" style=\"width:75px;border-top-width:0px;border-left-width:0px;\"><table border=\"0\" cellpadding=\"0\" cellspacing=\"0\" style=\"width:100%;border-collapse:collapse;\">\n",
       "<tr>\n",
       "<td class=\"dx-wrap\">2018</td><td style=\"width:1px;text-align:right;\"><span class=\"dx-vam\"> </span></td>\n",
       "</tr>\n",
       "</table></td><td class=\"dxgvHeader dx-wrap\" id=\"grd_col10\" onmousedown=\"aspxGVHeaderMouseDown('grd', this, event);\" style=\"width:75px;border-top-width:0px;border-left-width:0px;\"><table border=\"0\" cellpadding=\"0\" cellspacing=\"0\" style=\"width:100%;border-collapse:collapse;\">\n",
       "<tr>\n",
       "<td class=\"dx-wrap\">2019</td><td style=\"width:1px;text-align:right;\"><span class=\"dx-vam\"> </span></td>\n",
       "</tr>\n",
       "</table></td><td class=\"dxgvHeader dx-wrap\" id=\"grd_col11\" onmousedown=\"aspxGVHeaderMouseDown('grd', this, event);\" style=\"width:75px;border-top-width:0px;border-left-width:0px;\"><table border=\"0\" cellpadding=\"0\" cellspacing=\"0\" style=\"width:100%;border-collapse:collapse;\">\n",
       "<tr>\n",
       "<td class=\"dx-wrap\">2020</td><td style=\"width:1px;text-align:right;\"><span class=\"dx-vam\"> </span></td>\n",
       "</tr>\n",
       "</table></td><td class=\"dxgvHeader dx-wrap\" id=\"grd_col12\" onmousedown=\"aspxGVHeaderMouseDown('grd', this, event);\" style=\"width:75px;border-top-width:0px;border-left-width:0px;\"><table border=\"0\" cellpadding=\"0\" cellspacing=\"0\" style=\"width:100%;border-collapse:collapse;\">\n",
       "<tr>\n",
       "<td class=\"dx-wrap\">2021</td><td style=\"width:1px;text-align:right;\"><span class=\"dx-vam\"> </span></td>\n",
       "</tr>\n",
       "</table></td><td class=\"dxgvHeader dx-wrap\" id=\"grd_col13\" onmousedown=\"aspxGVHeaderMouseDown('grd', this, event);\" style=\"width:75px;border-top-width:0px;border-left-width:0px;\"><table border=\"0\" cellpadding=\"0\" cellspacing=\"0\" style=\"width:100%;border-collapse:collapse;\">\n",
       "<tr>\n",
       "<td class=\"dx-wrap\">2022</td><td style=\"width:1px;text-align:right;\"><span class=\"dx-vam\"> </span></td>\n",
       "</tr>\n",
       "</table></td><td class=\"dxgvHeader dx-wrap\" id=\"grd_col14\" onmousedown=\"aspxGVHeaderMouseDown('grd', this, event);\" style=\"width:75px;border-top-width:0px;border-left-width:0px;\"><table border=\"0\" cellpadding=\"0\" cellspacing=\"0\" style=\"width:100%;border-collapse:collapse;\">\n",
       "<tr>\n",
       "<td class=\"dx-wrap\">2023</td><td style=\"width:1px;text-align:right;\"><span class=\"dx-vam\"> </span></td>\n",
       "</tr>\n",
       "</table></td><td class=\"dxgvHeader dx-wrap\" id=\"grd_col15\" onmousedown=\"aspxGVHeaderMouseDown('grd', this, event);\" style=\"width:75px;border-top-width:0px;border-left-width:0px;border-right-width:0px;\"><table border=\"0\" cellpadding=\"0\" cellspacing=\"0\" style=\"width:100%;border-collapse:collapse;\">\n",
       "<tr>\n",
       "<td class=\"dx-wrap\">2024</td><td style=\"width:1px;text-align:right;\"><span class=\"dx-vam\"> </span></td>\n",
       "</tr>\n",
       "</table></td>\n",
       "</tr><tr class=\"dxgvFocusedRow\" id=\"grd_DXDataRow0\" style=\"color:Black;background-color:#C26868;\">\n",
       "<td align=\"left\" class=\"dxgv\">AC</td><td align=\"left\" class=\"dxgv\">Acre</td><td align=\"right\" class=\"dxgv\">0,566</td><td align=\"right\" class=\"dxgv\">0,553</td><td align=\"right\" class=\"dxgv\">0,529</td><td align=\"right\" class=\"dxgv\">0,549</td><td align=\"right\" class=\"dxgv\">0,563</td><td align=\"right\" class=\"dxgv\">0,545</td><td align=\"right\" class=\"dxgv\">0,558</td><td align=\"right\" class=\"dxgv\">0,559</td><td align=\"right\" class=\"dxgv\">0,515</td><td align=\"right\" class=\"dxgv\">0,539</td><td align=\"right\" class=\"dxgv\">0,523</td><td align=\"right\" class=\"dxgv\">0,511</td><td align=\"right\" class=\"dxgv\" style=\"border-right-width:0px;\">0,504</td>\n",
       "</tr><tr class=\"dxgvDataRow dxgvDataRowAlt\" id=\"grd_DXDataRow1\" style=\"background-color:#EBCDCD;\">\n",
       "<td align=\"left\" class=\"dxgv\">AL</td><td align=\"left\" class=\"dxgv\">Alagoas</td><td align=\"right\" class=\"dxgv\">0,503</td><td align=\"right\" class=\"dxgv\">0,510</td><td align=\"right\" class=\"dxgv\">0,527</td><td align=\"right\" class=\"dxgv\">0,525</td><td align=\"right\" class=\"dxgv\">0,523</td><td align=\"right\" class=\"dxgv\">0,525</td><td align=\"right\" class=\"dxgv\">0,550</td><td align=\"right\" class=\"dxgv\">0,527</td><td align=\"right\" class=\"dxgv\">0,510</td><td align=\"right\" class=\"dxgv\">0,526</td><td align=\"right\" class=\"dxgv\">0,498</td><td align=\"right\" class=\"dxgv\">0,486</td><td align=\"right\" class=\"dxgv\" style=\"border-right-width:0px;\">0,518</td>\n",
       "</tr><tr class=\"dxgvDataRow\" id=\"grd_DXDataRow2\" style=\"background-color:#F5E6E6;\">\n",
       "<td align=\"left\" class=\"dxgv\">AM</td><td align=\"left\" class=\"dxgv\">Amazonas</td><td align=\"right\" class=\"dxgv\">0,589</td><td align=\"right\" class=\"dxgv\">0,581</td><td align=\"right\" class=\"dxgv\">0,562</td><td align=\"right\" class=\"dxgv\">0,553</td><td align=\"right\" class=\"dxgv\">0,558</td><td align=\"right\" class=\"dxgv\">0,591</td><td align=\"right\" class=\"dxgv\">0,544</td><td align=\"right\" class=\"dxgv\">0,566</td><td align=\"right\" class=\"dxgv\">0,533</td><td align=\"right\" class=\"dxgv\">0,541</td><td align=\"right\" class=\"dxgv\">0,509</td><td align=\"right\" class=\"dxgv\">0,512</td><td align=\"right\" class=\"dxgv\" style=\"border-right-width:0px;\">0,474</td>\n",
       "</tr><tr class=\"dxgvDataRow dxgvDataRowAlt\" id=\"grd_DXDataRow3\" style=\"background-color:#EBCDCD;\">\n",
       "<td align=\"left\" class=\"dxgv\">AP</td><td align=\"left\" class=\"dxgv\">Amapá</td><td align=\"right\" class=\"dxgv\">0,528</td><td align=\"right\" class=\"dxgv\">0,513</td><td align=\"right\" class=\"dxgv\">0,523</td><td align=\"right\" class=\"dxgv\">0,548</td><td align=\"right\" class=\"dxgv\">0,555</td><td align=\"right\" class=\"dxgv\">0,589</td><td align=\"right\" class=\"dxgv\">0,547</td><td align=\"right\" class=\"dxgv\">0,513</td><td align=\"right\" class=\"dxgv\">0,500</td><td align=\"right\" class=\"dxgv\">0,530</td><td align=\"right\" class=\"dxgv\">0,531</td><td align=\"right\" class=\"dxgv\">0,491</td><td align=\"right\" class=\"dxgv\" style=\"border-right-width:0px;\">0,509</td>\n",
       "</tr><tr class=\"dxgvDataRow\" id=\"grd_DXDataRow4\" style=\"background-color:#F5E6E6;\">\n",
       "<td align=\"left\" class=\"dxgv\">BA</td><td align=\"left\" class=\"dxgv\">Bahia</td><td align=\"right\" class=\"dxgv\">0,563</td><td align=\"right\" class=\"dxgv\">0,535</td><td align=\"right\" class=\"dxgv\">0,528</td><td align=\"right\" class=\"dxgv\">0,522</td><td align=\"right\" class=\"dxgv\">0,539</td><td align=\"right\" class=\"dxgv\">0,590</td><td align=\"right\" class=\"dxgv\">0,550</td><td align=\"right\" class=\"dxgv\">0,557</td><td align=\"right\" class=\"dxgv\">0,537</td><td align=\"right\" class=\"dxgv\">0,546</td><td align=\"right\" class=\"dxgv\">0,511</td><td align=\"right\" class=\"dxgv\">0,490</td><td align=\"right\" class=\"dxgv\" style=\"border-right-width:0px;\">0,481</td>\n",
       "</tr><tr class=\"dxgvDataRow dxgvDataRowAlt\" id=\"grd_DXDataRow5\" style=\"background-color:#EBCDCD;\">\n",
       "<td align=\"left\" class=\"dxgv\">CE</td><td align=\"left\" class=\"dxgv\">Ceará</td><td align=\"right\" class=\"dxgv\">0,545</td><td align=\"right\" class=\"dxgv\">0,537</td><td align=\"right\" class=\"dxgv\">0,522</td><td align=\"right\" class=\"dxgv\">0,528</td><td align=\"right\" class=\"dxgv\">0,543</td><td align=\"right\" class=\"dxgv\">0,547</td><td align=\"right\" class=\"dxgv\">0,547</td><td align=\"right\" class=\"dxgv\">0,562</td><td align=\"right\" class=\"dxgv\">0,544</td><td align=\"right\" class=\"dxgv\">0,549</td><td align=\"right\" class=\"dxgv\">0,518</td><td align=\"right\" class=\"dxgv\">0,513</td><td align=\"right\" class=\"dxgv\" style=\"border-right-width:0px;\">0,489</td>\n",
       "</tr><tr class=\"dxgvDataRow\" id=\"grd_DXDataRow6\" style=\"background-color:#F5E6E6;\">\n",
       "<td align=\"left\" class=\"dxgv\">DF</td><td align=\"left\" class=\"dxgv\">Distrito Federal</td><td align=\"right\" class=\"dxgv\">0,601</td><td align=\"right\" class=\"dxgv\">0,579</td><td align=\"right\" class=\"dxgv\">0,574</td><td align=\"right\" class=\"dxgv\">0,581</td><td align=\"right\" class=\"dxgv\">0,579</td><td align=\"right\" class=\"dxgv\">0,593</td><td align=\"right\" class=\"dxgv\">0,570</td><td align=\"right\" class=\"dxgv\">0,554</td><td align=\"right\" class=\"dxgv\">0,548</td><td align=\"right\" class=\"dxgv\">0,566</td><td align=\"right\" class=\"dxgv\">0,536</td><td align=\"right\" class=\"dxgv\">0,543</td><td align=\"right\" class=\"dxgv\" style=\"border-right-width:0px;\">0,547</td>\n",
       "</tr><tr class=\"dxgvDataRow dxgvDataRowAlt\" id=\"grd_DXDataRow7\" style=\"background-color:#EBCDCD;\">\n",
       "<td align=\"left\" class=\"dxgv\">ES</td><td align=\"left\" class=\"dxgv\">Espírito Santo</td><td align=\"right\" class=\"dxgv\">0,489</td><td align=\"right\" class=\"dxgv\">0,499</td><td align=\"right\" class=\"dxgv\">0,501</td><td align=\"right\" class=\"dxgv\">0,505</td><td align=\"right\" class=\"dxgv\">0,510</td><td align=\"right\" class=\"dxgv\">0,506</td><td align=\"right\" class=\"dxgv\">0,509</td><td align=\"right\" class=\"dxgv\">0,520</td><td align=\"right\" class=\"dxgv\">0,484</td><td align=\"right\" class=\"dxgv\">0,509</td><td align=\"right\" class=\"dxgv\">0,493</td><td align=\"right\" class=\"dxgv\">0,486</td><td align=\"right\" class=\"dxgv\" style=\"border-right-width:0px;\">0,483</td>\n",
       "</tr><tr class=\"dxgvDataRow\" id=\"grd_DXDataRow8\" style=\"background-color:#F5E6E6;\">\n",
       "<td align=\"left\" class=\"dxgv\">GO</td><td align=\"left\" class=\"dxgv\">Goiás</td><td align=\"right\" class=\"dxgv\">0,474</td><td align=\"right\" class=\"dxgv\">0,465</td><td align=\"right\" class=\"dxgv\">0,458</td><td align=\"right\" class=\"dxgv\">0,456</td><td align=\"right\" class=\"dxgv\">0,467</td><td align=\"right\" class=\"dxgv\">0,477</td><td align=\"right\" class=\"dxgv\">0,470</td><td align=\"right\" class=\"dxgv\">0,460</td><td align=\"right\" class=\"dxgv\">0,445</td><td align=\"right\" class=\"dxgv\">0,467</td><td align=\"right\" class=\"dxgv\">0,456</td><td align=\"right\" class=\"dxgv\">0,473</td><td align=\"right\" class=\"dxgv\" style=\"border-right-width:0px;\">0,463</td>\n",
       "</tr><tr class=\"dxgvDataRow dxgvDataRowAlt\" id=\"grd_DXDataRow9\" style=\"background-color:#EBCDCD;\">\n",
       "<td align=\"left\" class=\"dxgv\">MA</td><td align=\"left\" class=\"dxgv\">Maranhão</td><td align=\"right\" class=\"dxgv\">0,498</td><td align=\"right\" class=\"dxgv\">0,494</td><td align=\"right\" class=\"dxgv\">0,475</td><td align=\"right\" class=\"dxgv\">0,495</td><td align=\"right\" class=\"dxgv\">0,517</td><td align=\"right\" class=\"dxgv\">0,526</td><td align=\"right\" class=\"dxgv\">0,528</td><td align=\"right\" class=\"dxgv\">0,531</td><td align=\"right\" class=\"dxgv\">0,482</td><td align=\"right\" class=\"dxgv\">0,530</td><td align=\"right\" class=\"dxgv\">0,491</td><td align=\"right\" class=\"dxgv\">0,492</td><td align=\"right\" class=\"dxgv\" style=\"border-right-width:0px;\">0,487</td>\n",
       "</tr><tr class=\"dxgvDataRow\" id=\"grd_DXDataRow10\" style=\"background-color:#F5E6E6;\">\n",
       "<td align=\"left\" class=\"dxgv\">MG</td><td align=\"left\" class=\"dxgv\">Minas Gerais</td><td align=\"right\" class=\"dxgv\">0,500</td><td align=\"right\" class=\"dxgv\">0,492</td><td align=\"right\" class=\"dxgv\">0,490</td><td align=\"right\" class=\"dxgv\">0,485</td><td align=\"right\" class=\"dxgv\">0,491</td><td align=\"right\" class=\"dxgv\">0,493</td><td align=\"right\" class=\"dxgv\">0,492</td><td align=\"right\" class=\"dxgv\">0,487</td><td align=\"right\" class=\"dxgv\">0,460</td><td align=\"right\" class=\"dxgv\">0,487</td><td align=\"right\" class=\"dxgv\">0,466</td><td align=\"right\" class=\"dxgv\">0,476</td><td align=\"right\" class=\"dxgv\" style=\"border-right-width:0px;\">0,449</td>\n",
       "</tr><tr class=\"dxgvDataRow dxgvDataRowAlt\" id=\"grd_DXDataRow11\" style=\"background-color:#EBCDCD;\">\n",
       "<td align=\"left\" class=\"dxgv\">MS</td><td align=\"left\" class=\"dxgv\">Mato Grosso do Sul</td><td align=\"right\" class=\"dxgv\">0,476</td><td align=\"right\" class=\"dxgv\">0,472</td><td align=\"right\" class=\"dxgv\">0,472</td><td align=\"right\" class=\"dxgv\">0,449</td><td align=\"right\" class=\"dxgv\">0,470</td><td align=\"right\" class=\"dxgv\">0,464</td><td align=\"right\" class=\"dxgv\">0,490</td><td align=\"right\" class=\"dxgv\">0,483</td><td align=\"right\" class=\"dxgv\">0,470</td><td align=\"right\" class=\"dxgv\">0,496</td><td align=\"right\" class=\"dxgv\">0,478</td><td align=\"right\" class=\"dxgv\">0,477</td><td align=\"right\" class=\"dxgv\" style=\"border-right-width:0px;\">0,455</td>\n",
       "</tr><tr class=\"dxgvDataRow\" id=\"grd_DXDataRow12\" style=\"background-color:#F5E6E6;\">\n",
       "<td align=\"left\" class=\"dxgv\">MT</td><td align=\"left\" class=\"dxgv\">Mato Grosso</td><td align=\"right\" class=\"dxgv\">0,487</td><td align=\"right\" class=\"dxgv\">0,456</td><td align=\"right\" class=\"dxgv\">0,459</td><td align=\"right\" class=\"dxgv\">0,443</td><td align=\"right\" class=\"dxgv\">0,453</td><td align=\"right\" class=\"dxgv\">0,463</td><td align=\"right\" class=\"dxgv\">0,465</td><td align=\"right\" class=\"dxgv\">0,454</td><td align=\"right\" class=\"dxgv\">0,462</td><td align=\"right\" class=\"dxgv\">0,461</td><td align=\"right\" class=\"dxgv\">0,450</td><td align=\"right\" class=\"dxgv\">0,452</td><td align=\"right\" class=\"dxgv\" style=\"border-right-width:0px;\">0,442</td>\n",
       "</tr><tr class=\"dxgvDataRow dxgvDataRowAlt\" id=\"grd_DXDataRow13\" style=\"background-color:#EBCDCD;\">\n",
       "<td align=\"left\" class=\"dxgv\">PA</td><td align=\"left\" class=\"dxgv\">Pará</td><td align=\"right\" class=\"dxgv\">0,533</td><td align=\"right\" class=\"dxgv\">0,531</td><td align=\"right\" class=\"dxgv\">0,507</td><td align=\"right\" class=\"dxgv\">0,515</td><td align=\"right\" class=\"dxgv\">0,510</td><td align=\"right\" class=\"dxgv\">0,506</td><td align=\"right\" class=\"dxgv\">0,562</td><td align=\"right\" class=\"dxgv\">0,528</td><td align=\"right\" class=\"dxgv\">0,480</td><td align=\"right\" class=\"dxgv\">0,529</td><td align=\"right\" class=\"dxgv\">0,508</td><td align=\"right\" class=\"dxgv\">0,501</td><td align=\"right\" class=\"dxgv\" style=\"border-right-width:0px;\">0,492</td>\n",
       "</tr><tr class=\"dxgvDataRow\" id=\"grd_DXDataRow14\" style=\"background-color:#F5E6E6;\">\n",
       "<td align=\"left\" class=\"dxgv\">PB</td><td align=\"left\" class=\"dxgv\">Paraíba</td><td align=\"right\" class=\"dxgv\">0,517</td><td align=\"right\" class=\"dxgv\">0,513</td><td align=\"right\" class=\"dxgv\">0,524</td><td align=\"right\" class=\"dxgv\">0,531</td><td align=\"right\" class=\"dxgv\">0,527</td><td align=\"right\" class=\"dxgv\">0,548</td><td align=\"right\" class=\"dxgv\">0,549</td><td align=\"right\" class=\"dxgv\">0,561</td><td align=\"right\" class=\"dxgv\">0,512</td><td align=\"right\" class=\"dxgv\">0,562</td><td align=\"right\" class=\"dxgv\">0,558</td><td align=\"right\" class=\"dxgv\">0,559</td><td align=\"right\" class=\"dxgv\" style=\"border-right-width:0px;\">0,495</td>\n",
       "</tr><tr class=\"dxgvDataRow dxgvDataRowAlt\" id=\"grd_DXDataRow15\" style=\"background-color:#EBCDCD;\">\n",
       "<td align=\"left\" class=\"dxgv\">PE</td><td align=\"left\" class=\"dxgv\">Pernambuco</td><td align=\"right\" class=\"dxgv\">0,573</td><td align=\"right\" class=\"dxgv\">0,566</td><td align=\"right\" class=\"dxgv\">0,566</td><td align=\"right\" class=\"dxgv\">0,567</td><td align=\"right\" class=\"dxgv\">0,567</td><td align=\"right\" class=\"dxgv\">0,551</td><td align=\"right\" class=\"dxgv\">0,534</td><td align=\"right\" class=\"dxgv\">0,574</td><td align=\"right\" class=\"dxgv\">0,536</td><td align=\"right\" class=\"dxgv\">0,579</td><td align=\"right\" class=\"dxgv\">0,515</td><td align=\"right\" class=\"dxgv\">0,496</td><td align=\"right\" class=\"dxgv\" style=\"border-right-width:0px;\">0,532</td>\n",
       "</tr><tr class=\"dxgvDataRow\" id=\"grd_DXDataRow16\" style=\"background-color:#F5E6E6;\">\n",
       "<td align=\"left\" class=\"dxgv\">PI</td><td align=\"left\" class=\"dxgv\">Piauí</td><td align=\"right\" class=\"dxgv\">0,495</td><td align=\"right\" class=\"dxgv\">0,535</td><td align=\"right\" class=\"dxgv\">0,516</td><td align=\"right\" class=\"dxgv\">0,520</td><td align=\"right\" class=\"dxgv\">0,528</td><td align=\"right\" class=\"dxgv\">0,529</td><td align=\"right\" class=\"dxgv\">0,530</td><td align=\"right\" class=\"dxgv\">0,537</td><td align=\"right\" class=\"dxgv\">0,474</td><td align=\"right\" class=\"dxgv\">0,516</td><td align=\"right\" class=\"dxgv\">0,518</td><td align=\"right\" class=\"dxgv\">0,552</td><td align=\"right\" class=\"dxgv\" style=\"border-right-width:0px;\">0,493</td>\n",
       "</tr><tr class=\"dxgvDataRow dxgvDataRowAlt\" id=\"grd_DXDataRow17\" style=\"background-color:#EBCDCD;\">\n",
       "<td align=\"left\" class=\"dxgv\">PR</td><td align=\"left\" class=\"dxgv\">Paraná</td><td align=\"right\" class=\"dxgv\">0,483</td><td align=\"right\" class=\"dxgv\">0,473</td><td align=\"right\" class=\"dxgv\">0,464</td><td align=\"right\" class=\"dxgv\">0,453</td><td align=\"right\" class=\"dxgv\">0,477</td><td align=\"right\" class=\"dxgv\">0,481</td><td align=\"right\" class=\"dxgv\">0,492</td><td align=\"right\" class=\"dxgv\">0,477</td><td align=\"right\" class=\"dxgv\">0,462</td><td align=\"right\" class=\"dxgv\">0,475</td><td align=\"right\" class=\"dxgv\">0,470</td><td align=\"right\" class=\"dxgv\">0,463</td><td align=\"right\" class=\"dxgv\" style=\"border-right-width:0px;\">0,477</td>\n",
       "</tr><tr class=\"dxgvDataRow\" id=\"grd_DXDataRow18\" style=\"background-color:#F5E6E6;\">\n",
       "<td align=\"left\" class=\"dxgv\">RJ</td><td align=\"left\" class=\"dxgv\">Rio de Janeiro</td><td align=\"right\" class=\"dxgv\">0,529</td><td align=\"right\" class=\"dxgv\">0,518</td><td align=\"right\" class=\"dxgv\">0,511</td><td align=\"right\" class=\"dxgv\">0,503</td><td align=\"right\" class=\"dxgv\">0,525</td><td align=\"right\" class=\"dxgv\">0,519</td><td align=\"right\" class=\"dxgv\">0,543</td><td align=\"right\" class=\"dxgv\">0,552</td><td align=\"right\" class=\"dxgv\">0,548</td><td align=\"right\" class=\"dxgv\">0,565</td><td align=\"right\" class=\"dxgv\">0,540</td><td align=\"right\" class=\"dxgv\">0,540</td><td align=\"right\" class=\"dxgv\" style=\"border-right-width:0px;\">0,523</td>\n",
       "</tr><tr class=\"dxgvDataRow dxgvDataRowAlt\" id=\"grd_DXDataRow19\" style=\"background-color:#EBCDCD;\">\n",
       "<td align=\"left\" class=\"dxgv\">RN</td><td align=\"left\" class=\"dxgv\">Rio Grande do Norte</td><td align=\"right\" class=\"dxgv\">0,508</td><td align=\"right\" class=\"dxgv\">0,505</td><td align=\"right\" class=\"dxgv\">0,510</td><td align=\"right\" class=\"dxgv\">0,518</td><td align=\"right\" class=\"dxgv\">0,543</td><td align=\"right\" class=\"dxgv\">0,523</td><td align=\"right\" class=\"dxgv\">0,540</td><td align=\"right\" class=\"dxgv\">0,554</td><td align=\"right\" class=\"dxgv\">0,512</td><td align=\"right\" class=\"dxgv\">0,587</td><td align=\"right\" class=\"dxgv\">0,526</td><td align=\"right\" class=\"dxgv\">0,535</td><td align=\"right\" class=\"dxgv\" style=\"border-right-width:0px;\">0,525</td>\n",
       "</tr><tr class=\"dxgvDataRow\" id=\"grd_DXDataRow20\" style=\"background-color:#F5E6E6;\">\n",
       "<td align=\"left\" class=\"dxgv\">RO</td><td align=\"left\" class=\"dxgv\">Rondônia</td><td align=\"right\" class=\"dxgv\">0,487</td><td align=\"right\" class=\"dxgv\">0,475</td><td align=\"right\" class=\"dxgv\">0,443</td><td align=\"right\" class=\"dxgv\">0,462</td><td align=\"right\" class=\"dxgv\">0,465</td><td align=\"right\" class=\"dxgv\">0,447</td><td align=\"right\" class=\"dxgv\">0,496</td><td align=\"right\" class=\"dxgv\">0,472</td><td align=\"right\" class=\"dxgv\">0,439</td><td align=\"right\" class=\"dxgv\">0,459</td><td align=\"right\" class=\"dxgv\">0,447</td><td align=\"right\" class=\"dxgv\">0,455</td><td align=\"right\" class=\"dxgv\" style=\"border-right-width:0px;\">0,443</td>\n",
       "</tr><tr class=\"dxgvDataRow dxgvDataRowAlt\" id=\"grd_DXDataRow21\" style=\"background-color:#EBCDCD;\">\n",
       "<td align=\"left\" class=\"dxgv\">RR</td><td align=\"left\" class=\"dxgv\">Roraima</td><td align=\"right\" class=\"dxgv\">0,549</td><td align=\"right\" class=\"dxgv\">0,556</td><td align=\"right\" class=\"dxgv\">0,523</td><td align=\"right\" class=\"dxgv\">0,537</td><td align=\"right\" class=\"dxgv\">0,537</td><td align=\"right\" class=\"dxgv\">0,526</td><td align=\"right\" class=\"dxgv\">0,566</td><td align=\"right\" class=\"dxgv\">0,580</td><td align=\"right\" class=\"dxgv\">0,540</td><td align=\"right\" class=\"dxgv\">0,596</td><td align=\"right\" class=\"dxgv\">0,547</td><td align=\"right\" class=\"dxgv\">0,520</td><td align=\"right\" class=\"dxgv\" style=\"border-right-width:0px;\">0,530</td>\n",
       "</tr><tr class=\"dxgvDataRow\" id=\"grd_DXDataRow22\" style=\"background-color:#F5E6E6;\">\n",
       "<td align=\"left\" class=\"dxgv\">RS</td><td align=\"left\" class=\"dxgv\">Rio Grande do Sul</td><td align=\"right\" class=\"dxgv\">0,495</td><td align=\"right\" class=\"dxgv\">0,477</td><td align=\"right\" class=\"dxgv\">0,479</td><td align=\"right\" class=\"dxgv\">0,467</td><td align=\"right\" class=\"dxgv\">0,473</td><td align=\"right\" class=\"dxgv\">0,481</td><td align=\"right\" class=\"dxgv\">0,487</td><td align=\"right\" class=\"dxgv\">0,482</td><td align=\"right\" class=\"dxgv\">0,476</td><td align=\"right\" class=\"dxgv\">0,468</td><td align=\"right\" class=\"dxgv\">0,467</td><td align=\"right\" class=\"dxgv\">0,466</td><td align=\"right\" class=\"dxgv\" style=\"border-right-width:0px;\">0,460</td>\n",
       "</tr><tr class=\"dxgvDataRow dxgvDataRowAlt\" id=\"grd_DXDataRow23\" style=\"background-color:#EBCDCD;\">\n",
       "<td align=\"left\" class=\"dxgv\">SC</td><td align=\"left\" class=\"dxgv\">Santa Catarina</td><td align=\"right\" class=\"dxgv\">0,435</td><td align=\"right\" class=\"dxgv\">0,428</td><td align=\"right\" class=\"dxgv\">0,408</td><td align=\"right\" class=\"dxgv\">0,414</td><td align=\"right\" class=\"dxgv\">0,421</td><td align=\"right\" class=\"dxgv\">0,414</td><td align=\"right\" class=\"dxgv\">0,417</td><td align=\"right\" class=\"dxgv\">0,421</td><td align=\"right\" class=\"dxgv\">0,412</td><td align=\"right\" class=\"dxgv\">0,424</td><td align=\"right\" class=\"dxgv\">0,419</td><td align=\"right\" class=\"dxgv\">0,418</td><td align=\"right\" class=\"dxgv\" style=\"border-right-width:0px;\">0,431</td>\n",
       "</tr><tr class=\"dxgvDataRow\" id=\"grd_DXDataRow24\" style=\"background-color:#F5E6E6;\">\n",
       "<td align=\"left\" class=\"dxgv\">SE</td><td align=\"left\" class=\"dxgv\">Sergipe</td><td align=\"right\" class=\"dxgv\">0,569</td><td align=\"right\" class=\"dxgv\">0,572</td><td align=\"right\" class=\"dxgv\">0,543</td><td align=\"right\" class=\"dxgv\">0,539</td><td align=\"right\" class=\"dxgv\">0,567</td><td align=\"right\" class=\"dxgv\">0,551</td><td align=\"right\" class=\"dxgv\">0,578</td><td align=\"right\" class=\"dxgv\">0,581</td><td align=\"right\" class=\"dxgv\">0,524</td><td align=\"right\" class=\"dxgv\">0,568</td><td align=\"right\" class=\"dxgv\">0,528</td><td align=\"right\" class=\"dxgv\">0,507</td><td align=\"right\" class=\"dxgv\" style=\"border-right-width:0px;\">0,500</td>\n",
       "</tr><tr class=\"dxgvDataRow dxgvDataRowAlt\" id=\"grd_DXDataRow25\" style=\"background-color:#EBCDCD;\">\n",
       "<td align=\"left\" class=\"dxgv\">SP</td><td align=\"left\" class=\"dxgv\">São Paulo</td><td align=\"right\" class=\"dxgv\">0,511</td><td align=\"right\" class=\"dxgv\">0,510</td><td align=\"right\" class=\"dxgv\">0,507</td><td align=\"right\" class=\"dxgv\">0,513</td><td align=\"right\" class=\"dxgv\">0,524</td><td align=\"right\" class=\"dxgv\">0,526</td><td align=\"right\" class=\"dxgv\">0,538</td><td align=\"right\" class=\"dxgv\">0,526</td><td align=\"right\" class=\"dxgv\">0,522</td><td align=\"right\" class=\"dxgv\">0,533</td><td align=\"right\" class=\"dxgv\">0,500</td><td align=\"right\" class=\"dxgv\">0,504</td><td align=\"right\" class=\"dxgv\" style=\"border-right-width:0px;\">0,491</td>\n",
       "</tr><tr class=\"dxgvDataRow\" id=\"grd_DXDataRow26\" style=\"background-color:#F5E6E6;\">\n",
       "<td align=\"left\" class=\"dxgv\" style=\"border-bottom-width:0px;\">TO</td><td align=\"left\" class=\"dxgv\" style=\"border-bottom-width:0px;\">Tocantins</td><td align=\"right\" class=\"dxgv\" style=\"border-bottom-width:0px;\">0,507</td><td align=\"right\" class=\"dxgv\" style=\"border-bottom-width:0px;\">0,515</td><td align=\"right\" class=\"dxgv\" style=\"border-bottom-width:0px;\">0,498</td><td align=\"right\" class=\"dxgv\" style=\"border-bottom-width:0px;\">0,506</td><td align=\"right\" class=\"dxgv\" style=\"border-bottom-width:0px;\">0,489</td><td align=\"right\" class=\"dxgv\" style=\"border-bottom-width:0px;\">0,495</td><td align=\"right\" class=\"dxgv\" style=\"border-bottom-width:0px;\">0,529</td><td align=\"right\" class=\"dxgv\" style=\"border-bottom-width:0px;\">0,530</td><td align=\"right\" class=\"dxgv\" style=\"border-bottom-width:0px;\">0,485</td><td align=\"right\" class=\"dxgv\" style=\"border-bottom-width:0px;\">0,514</td><td align=\"right\" class=\"dxgv\" style=\"border-bottom-width:0px;\">0,507</td><td align=\"right\" class=\"dxgv\" style=\"border-bottom-width:0px;\">0,477</td><td align=\"right\" class=\"dxgv\" style=\"border-right-width:0px;border-bottom-width:0px;\">0,477</td>\n",
       "</tr>\n",
       "</table>"
      ]
     },
     "execution_count": 16,
     "metadata": {},
     "output_type": "execute_result"
    }
   ],
   "source": [
    "table"
   ]
  },
  {
   "cell_type": "code",
   "execution_count": 14,
   "id": "943af828",
   "metadata": {},
   "outputs": [],
   "source": [
    "header_cells = table.select(\"tr#grd_DXHeadersRow0 td\")[2:]\n",
    "anos = [td.get_text(strip=True) for td in header_cells]     # ['2012', …, '2024']\n",
    "idx_2022 = anos.index(\"2022\")                               # posição da coluna 2022\n",
    "rows = table.select(\"tr[id^=grd_DXDataRow]\")"
   ]
  },
  {
   "cell_type": "markdown",
   "id": "d0d3b49d",
   "metadata": {},
   "source": [
    "### Convert to list of dictionaries"
   ]
  },
  {
   "cell_type": "code",
   "execution_count": 20,
   "id": "bd9eac8c",
   "metadata": {},
   "outputs": [],
   "source": [
    "records = []\n",
    "for tr in rows:\n",
    "    cols = [td.get_text(strip=True).replace(\"\\xa0\", \" \")          # limpa &nbsp;\n",
    "            for td in tr.find_all(\"td\")]\n",
    "\n",
    "    # Garante que a linha tem o total esperado\n",
    "    if len(cols) != 15:\n",
    "        continue          # ou lance exceção se preferir\n",
    "\n",
    "    (sigla, estado,\n",
    "     v2012, v2013, v2014, v2015, v2016,\n",
    "     v2017, v2018, v2019, v2020, v2021,\n",
    "     v2022, v2023, v2024) = cols\n",
    "\n",
    "    records.append({\n",
    "        \"UF\":     sigla,\n",
    "        \"Estado\": estado,\n",
    "        \"2012\":   float(v2012.replace(\",\", \".\")),\n",
    "        \"2013\":   float(v2013.replace(\",\", \".\")),\n",
    "        \"2014\":   float(v2014.replace(\",\", \".\")),\n",
    "        \"2015\":   float(v2015.replace(\",\", \".\")),\n",
    "        \"2016\":   float(v2016.replace(\",\", \".\")),\n",
    "        \"2017\":   float(v2017.replace(\",\", \".\")),\n",
    "        \"2018\":   float(v2018.replace(\",\", \".\")),\n",
    "        \"2019\":   float(v2019.replace(\",\", \".\")),\n",
    "        \"2020\":   float(v2020.replace(\",\", \".\")),\n",
    "        \"2021\":   float(v2021.replace(\",\", \".\")),\n",
    "        \"2022\":   float(v2022.replace(\",\", \".\")),\n",
    "        \"2023\":   float(v2023.replace(\",\", \".\")),\n",
    "        \"2024\":   float(v2024.replace(\",\", \".\"))\n",
    "    })\n"
   ]
  },
  {
   "cell_type": "code",
   "execution_count": 21,
   "id": "c72c0d24",
   "metadata": {},
   "outputs": [
    {
     "name": "stdout",
     "output_type": "stream",
     "text": [
      "[{'UF': 'AC', 'Estado': 'Acre', '2012': 0.566, '2013': 0.553, '2014': 0.529, '2015': 0.549, '2016': 0.563, '2017': 0.545, '2018': 0.558, '2019': 0.559, '2020': 0.515, '2021': 0.539, '2022': 0.523, '2023': 0.511, '2024': 0.504}, {'UF': 'AL', 'Estado': 'Alagoas', '2012': 0.503, '2013': 0.51, '2014': 0.527, '2015': 0.525, '2016': 0.523, '2017': 0.525, '2018': 0.55, '2019': 0.527, '2020': 0.51, '2021': 0.526, '2022': 0.498, '2023': 0.486, '2024': 0.518}, {'UF': 'AM', 'Estado': 'Amazonas', '2012': 0.589, '2013': 0.581, '2014': 0.562, '2015': 0.553, '2016': 0.558, '2017': 0.591, '2018': 0.544, '2019': 0.566, '2020': 0.533, '2021': 0.541, '2022': 0.509, '2023': 0.512, '2024': 0.474}, {'UF': 'AP', 'Estado': 'Amapá', '2012': 0.528, '2013': 0.513, '2014': 0.523, '2015': 0.548, '2016': 0.555, '2017': 0.589, '2018': 0.547, '2019': 0.513, '2020': 0.5, '2021': 0.53, '2022': 0.531, '2023': 0.491, '2024': 0.509}, {'UF': 'BA', 'Estado': 'Bahia', '2012': 0.563, '2013': 0.535, '2014': 0.528, '2015': 0.522, '2016': 0.539, '2017': 0.59, '2018': 0.55, '2019': 0.557, '2020': 0.537, '2021': 0.546, '2022': 0.511, '2023': 0.49, '2024': 0.481}, {'UF': 'CE', 'Estado': 'Ceará', '2012': 0.545, '2013': 0.537, '2014': 0.522, '2015': 0.528, '2016': 0.543, '2017': 0.547, '2018': 0.547, '2019': 0.562, '2020': 0.544, '2021': 0.549, '2022': 0.518, '2023': 0.513, '2024': 0.489}, {'UF': 'DF', 'Estado': 'Distrito Federal', '2012': 0.601, '2013': 0.579, '2014': 0.574, '2015': 0.581, '2016': 0.579, '2017': 0.593, '2018': 0.57, '2019': 0.554, '2020': 0.548, '2021': 0.566, '2022': 0.536, '2023': 0.543, '2024': 0.547}, {'UF': 'ES', 'Estado': 'Espírito Santo', '2012': 0.489, '2013': 0.499, '2014': 0.501, '2015': 0.505, '2016': 0.51, '2017': 0.506, '2018': 0.509, '2019': 0.52, '2020': 0.484, '2021': 0.509, '2022': 0.493, '2023': 0.486, '2024': 0.483}, {'UF': 'GO', 'Estado': 'Goiás', '2012': 0.474, '2013': 0.465, '2014': 0.458, '2015': 0.456, '2016': 0.467, '2017': 0.477, '2018': 0.47, '2019': 0.46, '2020': 0.445, '2021': 0.467, '2022': 0.456, '2023': 0.473, '2024': 0.463}, {'UF': 'MA', 'Estado': 'Maranhão', '2012': 0.498, '2013': 0.494, '2014': 0.475, '2015': 0.495, '2016': 0.517, '2017': 0.526, '2018': 0.528, '2019': 0.531, '2020': 0.482, '2021': 0.53, '2022': 0.491, '2023': 0.492, '2024': 0.487}, {'UF': 'MG', 'Estado': 'Minas Gerais', '2012': 0.5, '2013': 0.492, '2014': 0.49, '2015': 0.485, '2016': 0.491, '2017': 0.493, '2018': 0.492, '2019': 0.487, '2020': 0.46, '2021': 0.487, '2022': 0.466, '2023': 0.476, '2024': 0.449}, {'UF': 'MS', 'Estado': 'Mato Grosso do Sul', '2012': 0.476, '2013': 0.472, '2014': 0.472, '2015': 0.449, '2016': 0.47, '2017': 0.464, '2018': 0.49, '2019': 0.483, '2020': 0.47, '2021': 0.496, '2022': 0.478, '2023': 0.477, '2024': 0.455}, {'UF': 'MT', 'Estado': 'Mato Grosso', '2012': 0.487, '2013': 0.456, '2014': 0.459, '2015': 0.443, '2016': 0.453, '2017': 0.463, '2018': 0.465, '2019': 0.454, '2020': 0.462, '2021': 0.461, '2022': 0.45, '2023': 0.452, '2024': 0.442}, {'UF': 'PA', 'Estado': 'Pará', '2012': 0.533, '2013': 0.531, '2014': 0.507, '2015': 0.515, '2016': 0.51, '2017': 0.506, '2018': 0.562, '2019': 0.528, '2020': 0.48, '2021': 0.529, '2022': 0.508, '2023': 0.501, '2024': 0.492}, {'UF': 'PB', 'Estado': 'Paraíba', '2012': 0.517, '2013': 0.513, '2014': 0.524, '2015': 0.531, '2016': 0.527, '2017': 0.548, '2018': 0.549, '2019': 0.561, '2020': 0.512, '2021': 0.562, '2022': 0.558, '2023': 0.559, '2024': 0.495}, {'UF': 'PE', 'Estado': 'Pernambuco', '2012': 0.573, '2013': 0.566, '2014': 0.566, '2015': 0.567, '2016': 0.567, '2017': 0.551, '2018': 0.534, '2019': 0.574, '2020': 0.536, '2021': 0.579, '2022': 0.515, '2023': 0.496, '2024': 0.532}, {'UF': 'PI', 'Estado': 'Piauí', '2012': 0.495, '2013': 0.535, '2014': 0.516, '2015': 0.52, '2016': 0.528, '2017': 0.529, '2018': 0.53, '2019': 0.537, '2020': 0.474, '2021': 0.516, '2022': 0.518, '2023': 0.552, '2024': 0.493}, {'UF': 'PR', 'Estado': 'Paraná', '2012': 0.483, '2013': 0.473, '2014': 0.464, '2015': 0.453, '2016': 0.477, '2017': 0.481, '2018': 0.492, '2019': 0.477, '2020': 0.462, '2021': 0.475, '2022': 0.47, '2023': 0.463, '2024': 0.477}, {'UF': 'RJ', 'Estado': 'Rio de Janeiro', '2012': 0.529, '2013': 0.518, '2014': 0.511, '2015': 0.503, '2016': 0.525, '2017': 0.519, '2018': 0.543, '2019': 0.552, '2020': 0.548, '2021': 0.565, '2022': 0.54, '2023': 0.54, '2024': 0.523}, {'UF': 'RN', 'Estado': 'Rio Grande do Norte', '2012': 0.508, '2013': 0.505, '2014': 0.51, '2015': 0.518, '2016': 0.543, '2017': 0.523, '2018': 0.54, '2019': 0.554, '2020': 0.512, '2021': 0.587, '2022': 0.526, '2023': 0.535, '2024': 0.525}, {'UF': 'RO', 'Estado': 'Rondônia', '2012': 0.487, '2013': 0.475, '2014': 0.443, '2015': 0.462, '2016': 0.465, '2017': 0.447, '2018': 0.496, '2019': 0.472, '2020': 0.439, '2021': 0.459, '2022': 0.447, '2023': 0.455, '2024': 0.443}, {'UF': 'RR', 'Estado': 'Roraima', '2012': 0.549, '2013': 0.556, '2014': 0.523, '2015': 0.537, '2016': 0.537, '2017': 0.526, '2018': 0.566, '2019': 0.58, '2020': 0.54, '2021': 0.596, '2022': 0.547, '2023': 0.52, '2024': 0.53}, {'UF': 'RS', 'Estado': 'Rio Grande do Sul', '2012': 0.495, '2013': 0.477, '2014': 0.479, '2015': 0.467, '2016': 0.473, '2017': 0.481, '2018': 0.487, '2019': 0.482, '2020': 0.476, '2021': 0.468, '2022': 0.467, '2023': 0.466, '2024': 0.46}, {'UF': 'SC', 'Estado': 'Santa Catarina', '2012': 0.435, '2013': 0.428, '2014': 0.408, '2015': 0.414, '2016': 0.421, '2017': 0.414, '2018': 0.417, '2019': 0.421, '2020': 0.412, '2021': 0.424, '2022': 0.419, '2023': 0.418, '2024': 0.431}, {'UF': 'SE', 'Estado': 'Sergipe', '2012': 0.569, '2013': 0.572, '2014': 0.543, '2015': 0.539, '2016': 0.567, '2017': 0.551, '2018': 0.578, '2019': 0.581, '2020': 0.524, '2021': 0.568, '2022': 0.528, '2023': 0.507, '2024': 0.5}, {'UF': 'SP', 'Estado': 'São Paulo', '2012': 0.511, '2013': 0.51, '2014': 0.507, '2015': 0.513, '2016': 0.524, '2017': 0.526, '2018': 0.538, '2019': 0.526, '2020': 0.522, '2021': 0.533, '2022': 0.5, '2023': 0.504, '2024': 0.491}, {'UF': 'TO', 'Estado': 'Tocantins', '2012': 0.507, '2013': 0.515, '2014': 0.498, '2015': 0.506, '2016': 0.489, '2017': 0.495, '2018': 0.529, '2019': 0.53, '2020': 0.485, '2021': 0.514, '2022': 0.507, '2023': 0.477, '2024': 0.477}]\n"
     ]
    }
   ],
   "source": [
    "print(records)"
   ]
  },
  {
   "cell_type": "markdown",
   "id": "2397e1c5",
   "metadata": {},
   "source": [
    "### Create Dataframe"
   ]
  },
  {
   "cell_type": "code",
   "execution_count": 22,
   "id": "861c661a",
   "metadata": {},
   "outputs": [
    {
     "data": {
      "text/html": [
       "<div>\n",
       "<style scoped>\n",
       "    .dataframe tbody tr th:only-of-type {\n",
       "        vertical-align: middle;\n",
       "    }\n",
       "\n",
       "    .dataframe tbody tr th {\n",
       "        vertical-align: top;\n",
       "    }\n",
       "\n",
       "    .dataframe thead th {\n",
       "        text-align: right;\n",
       "    }\n",
       "</style>\n",
       "<table border=\"1\" class=\"dataframe\">\n",
       "  <thead>\n",
       "    <tr style=\"text-align: right;\">\n",
       "      <th></th>\n",
       "      <th>Estado</th>\n",
       "      <th>2012</th>\n",
       "      <th>2013</th>\n",
       "      <th>2014</th>\n",
       "      <th>2015</th>\n",
       "      <th>2016</th>\n",
       "      <th>2017</th>\n",
       "      <th>2018</th>\n",
       "      <th>2019</th>\n",
       "      <th>2020</th>\n",
       "      <th>2021</th>\n",
       "      <th>2022</th>\n",
       "      <th>2023</th>\n",
       "      <th>2024</th>\n",
       "    </tr>\n",
       "    <tr>\n",
       "      <th>UF</th>\n",
       "      <th></th>\n",
       "      <th></th>\n",
       "      <th></th>\n",
       "      <th></th>\n",
       "      <th></th>\n",
       "      <th></th>\n",
       "      <th></th>\n",
       "      <th></th>\n",
       "      <th></th>\n",
       "      <th></th>\n",
       "      <th></th>\n",
       "      <th></th>\n",
       "      <th></th>\n",
       "      <th></th>\n",
       "    </tr>\n",
       "  </thead>\n",
       "  <tbody>\n",
       "    <tr>\n",
       "      <th>AC</th>\n",
       "      <td>Acre</td>\n",
       "      <td>0.566</td>\n",
       "      <td>0.553</td>\n",
       "      <td>0.529</td>\n",
       "      <td>0.549</td>\n",
       "      <td>0.563</td>\n",
       "      <td>0.545</td>\n",
       "      <td>0.558</td>\n",
       "      <td>0.559</td>\n",
       "      <td>0.515</td>\n",
       "      <td>0.539</td>\n",
       "      <td>0.523</td>\n",
       "      <td>0.511</td>\n",
       "      <td>0.504</td>\n",
       "    </tr>\n",
       "    <tr>\n",
       "      <th>AL</th>\n",
       "      <td>Alagoas</td>\n",
       "      <td>0.503</td>\n",
       "      <td>0.510</td>\n",
       "      <td>0.527</td>\n",
       "      <td>0.525</td>\n",
       "      <td>0.523</td>\n",
       "      <td>0.525</td>\n",
       "      <td>0.550</td>\n",
       "      <td>0.527</td>\n",
       "      <td>0.510</td>\n",
       "      <td>0.526</td>\n",
       "      <td>0.498</td>\n",
       "      <td>0.486</td>\n",
       "      <td>0.518</td>\n",
       "    </tr>\n",
       "    <tr>\n",
       "      <th>AM</th>\n",
       "      <td>Amazonas</td>\n",
       "      <td>0.589</td>\n",
       "      <td>0.581</td>\n",
       "      <td>0.562</td>\n",
       "      <td>0.553</td>\n",
       "      <td>0.558</td>\n",
       "      <td>0.591</td>\n",
       "      <td>0.544</td>\n",
       "      <td>0.566</td>\n",
       "      <td>0.533</td>\n",
       "      <td>0.541</td>\n",
       "      <td>0.509</td>\n",
       "      <td>0.512</td>\n",
       "      <td>0.474</td>\n",
       "    </tr>\n",
       "    <tr>\n",
       "      <th>AP</th>\n",
       "      <td>Amapá</td>\n",
       "      <td>0.528</td>\n",
       "      <td>0.513</td>\n",
       "      <td>0.523</td>\n",
       "      <td>0.548</td>\n",
       "      <td>0.555</td>\n",
       "      <td>0.589</td>\n",
       "      <td>0.547</td>\n",
       "      <td>0.513</td>\n",
       "      <td>0.500</td>\n",
       "      <td>0.530</td>\n",
       "      <td>0.531</td>\n",
       "      <td>0.491</td>\n",
       "      <td>0.509</td>\n",
       "    </tr>\n",
       "    <tr>\n",
       "      <th>BA</th>\n",
       "      <td>Bahia</td>\n",
       "      <td>0.563</td>\n",
       "      <td>0.535</td>\n",
       "      <td>0.528</td>\n",
       "      <td>0.522</td>\n",
       "      <td>0.539</td>\n",
       "      <td>0.590</td>\n",
       "      <td>0.550</td>\n",
       "      <td>0.557</td>\n",
       "      <td>0.537</td>\n",
       "      <td>0.546</td>\n",
       "      <td>0.511</td>\n",
       "      <td>0.490</td>\n",
       "      <td>0.481</td>\n",
       "    </tr>\n",
       "  </tbody>\n",
       "</table>\n",
       "</div>"
      ],
      "text/plain": [
       "      Estado   2012   2013   2014   2015   2016   2017   2018   2019   2020  \\\n",
       "UF                                                                            \n",
       "AC      Acre  0.566  0.553  0.529  0.549  0.563  0.545  0.558  0.559  0.515   \n",
       "AL   Alagoas  0.503  0.510  0.527  0.525  0.523  0.525  0.550  0.527  0.510   \n",
       "AM  Amazonas  0.589  0.581  0.562  0.553  0.558  0.591  0.544  0.566  0.533   \n",
       "AP     Amapá  0.528  0.513  0.523  0.548  0.555  0.589  0.547  0.513  0.500   \n",
       "BA     Bahia  0.563  0.535  0.528  0.522  0.539  0.590  0.550  0.557  0.537   \n",
       "\n",
       "     2021   2022   2023   2024  \n",
       "UF                              \n",
       "AC  0.539  0.523  0.511  0.504  \n",
       "AL  0.526  0.498  0.486  0.518  \n",
       "AM  0.541  0.509  0.512  0.474  \n",
       "AP  0.530  0.531  0.491  0.509  \n",
       "BA  0.546  0.511  0.490  0.481  "
      ]
     },
     "execution_count": 22,
     "metadata": {},
     "output_type": "execute_result"
    }
   ],
   "source": [
    "df = pd.DataFrame(records).set_index(\"UF\")\n",
    "df.head()"
   ]
  },
  {
   "cell_type": "markdown",
   "id": "5a597bcc",
   "metadata": {},
   "source": [
    "### Save Data"
   ]
  },
  {
   "cell_type": "code",
   "execution_count": 23,
   "id": "e014fd7e",
   "metadata": {},
   "outputs": [],
   "source": [
    "df[[\"Estado\", \"2022\"]].sort_values(\"2022\").to_csv(\"/home/fbotero/Documents/POS/raw/gini_uf_2022.csv\", float_format=\"%.2f\", encoding=\"utf-8\")"
   ]
  },
  {
   "cell_type": "code",
   "execution_count": null,
   "id": "e3d3f626",
   "metadata": {},
   "outputs": [],
   "source": []
  }
 ],
 "metadata": {
  "kernelspec": {
   "display_name": "venv",
   "language": "python",
   "name": "python3"
  },
  "language_info": {
   "codemirror_mode": {
    "name": "ipython",
    "version": 3
   },
   "file_extension": ".py",
   "mimetype": "text/x-python",
   "name": "python",
   "nbconvert_exporter": "python",
   "pygments_lexer": "ipython3",
   "version": "3.10.12"
  }
 },
 "nbformat": 4,
 "nbformat_minor": 5
}
